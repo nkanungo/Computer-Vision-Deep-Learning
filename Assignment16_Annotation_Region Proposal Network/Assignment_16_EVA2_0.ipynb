{
  "nbformat": 4,
  "nbformat_minor": 0,
  "metadata": {
    "kernelspec": {
      "display_name": "Python 3",
      "language": "python",
      "name": "python3"
    },
    "language_info": {
      "codemirror_mode": {
        "name": "ipython",
        "version": 3
      },
      "file_extension": ".py",
      "mimetype": "text/x-python",
      "name": "python",
      "nbconvert_exporter": "python",
      "pygments_lexer": "ipython3",
      "version": "3.6.5"
    },
    "colab": {
      "name": "Assignment_16_EVA2.0.ipynb",
      "provenance": []
    }
  },
  "cells": [
    {
      "cell_type": "code",
      "metadata": {
        "id": "FT--8MEBBzSG",
        "colab_type": "code",
        "colab": {}
      },
      "source": [
        "#Assignment - 14\n",
        "\n",
        "\n",
        "Name : Nihar Kanungo, Manjunath (EVA-2, Batch : 6:30 AM , Sunday)\n",
        "    \n",
        "The Assignment\n",
        "=================\n",
        "1. Collection of  100 images of faces from online sources (you can use any existing database as well, but we need multiple faces)\n",
        "2. Please make sure that there are not too many faces in the image\n",
        "3. Classes are:  Front, Left, Right, Up, Down, UpLeft, UpRight, DownLeft, DownRight, Top, Back. Please make sure you have these kind of faces in your collection. Also please make sure that your LEFT is the LEFT of your screen. \n",
        "4. resize your images to 400x400\n",
        "5. Rename your images as img_001 to img_100. \n",
        "6. Annotate these objects using VGG Annotator (Links to an external site.) (using a local copy)\n",
        "7. Use K-means clustering to find out the top 4 anchor boxes\n",
        "8. Upload to github\n",
        "9. images in a zipped folder\n",
        "10. your annotation file (json)\n",
        "11. k-means code\n",
        "12. Add a readme file and show:\n",
        "    a) few screenshots of your annotations\n",
        "    b) your 4 bounding box dimensions\n",
        "\n",
        "Background :\n",
        "==========\n",
        "The Purpose of this assignment is to prepare data for running object detection models.Object detection models unline image recognition models require a boundary box around the objects in an image.\n",
        "We would be using the VGG Annotator software to prepare the data for our model and use the K mean clustering algorithm to find the 4 best anchor boxes which all the objects can fit into . The obvious question here is why 4 ? well we can try with many values for K, but that's the discussion for future.\n",
        "\n",
        "\n",
        "\n",
        "Environment\n",
        "===============\n",
        "Development - Colab GPU , Jupyter Notebook Repository : Github\n",
        "\n",
        "Algorithm : K Mean CLustering \n",
        "\n",
        "\n",
        "Referrences & further reading \n",
        "===============================\n",
        "\n",
        "VGG Image Annotator (VIA) : http://www.robots.ox.ac.uk/~vgg/software/via/\n",
        "\n",
        "Videos\n",
        "-------------\n",
        "https://youtu.be/-3WVSxNLk_k\n",
        "    "
      ],
      "execution_count": 0,
      "outputs": []
    },
    {
      "cell_type": "markdown",
      "metadata": {
        "id": "pjhHK7MkBzSL",
        "colab_type": "text"
      },
      "source": [
        "# Import the fastai for preprocessing and all other required libraries"
      ]
    },
    {
      "cell_type": "code",
      "metadata": {
        "id": "E3YPhr3VBzSM",
        "colab_type": "code",
        "colab": {}
      },
      "source": [
        "from fastai import *\n",
        "import numpy as np\n",
        "import pandas as pd\n",
        "from matplotlib import pyplot as plt\n",
        "from sklearn.cluster import KMeans"
      ],
      "execution_count": 0,
      "outputs": []
    },
    {
      "cell_type": "markdown",
      "metadata": {
        "id": "YKygO4VmBzSP",
        "colab_type": "text"
      },
      "source": [
        ""
      ]
    },
    {
      "cell_type": "code",
      "metadata": {
        "id": "shVuMdnaBzSQ",
        "colab_type": "code",
        "colab": {}
      },
      "source": [
        "from fastai.vision import *"
      ],
      "execution_count": 0,
      "outputs": []
    },
    {
      "cell_type": "code",
      "metadata": {
        "id": "tDMZug6mBzSS",
        "colab_type": "code",
        "colab": {},
        "outputId": "cb2b65dd-2465-4d14-aa46-c197e2094fba"
      },
      "source": [
        "!ls"
      ],
      "execution_count": 0,
      "outputs": [
        {
          "output_type": "stream",
          "text": [
            " BACKUP\t\t\t\t\t\t nomachine_6.5.6_9_amd64.deb\r\n",
            "'Bag_Of_Tricks_1_0_ipynb (1).ipynb'\t\t PE\r\n",
            " Data_19_EVA\t\t\t\t\t PE_EE\r\n",
            " Data_19_EVA.zip\t\t\t\t Siddhant_Python\r\n",
            "'Holiday Calendar 2019  for Bangalore.pdf'\t UBA_files\r\n",
            " -home-gaurav-Backup-fastai-fastai-vision-.txt\t Ueba_Datarolling_sample\r\n",
            " ip_checks\t\t\t\t\t Untitled.ipynb\r\n",
            " kaveri\t\t\t\t\t\t'Web Attacks URL Testing'\r\n",
            " mdr-ml-develop\t\t\t\t\t'Web Attacks URL Testing.7z'\r\n",
            " mdr-ml-develop.zip\r\n"
          ],
          "name": "stdout"
        }
      ]
    },
    {
      "cell_type": "code",
      "metadata": {
        "id": "r0yJCoTcBzSW",
        "colab_type": "code",
        "colab": {}
      },
      "source": [
        "# Here we are trying to download the images directly into the notebook using the links present in the text files listed below "
      ],
      "execution_count": 0,
      "outputs": []
    },
    {
      "cell_type": "markdown",
      "metadata": {
        "id": "qcnhZjU6BzSZ",
        "colab_type": "text"
      },
      "source": [
        "! ls Data_16_EVA/"
      ]
    },
    {
      "cell_type": "markdown",
      "metadata": {
        "id": "uUZ7aQcOBzSa",
        "colab_type": "text"
      },
      "source": [
        "Down_Images.txt       Images_Back.txt\tImages_Right.txt  upleft_images.txt\n",
        "Downleft_images.txt   Images_Front.txt\tTop_Images.txt\t  upright.txt\n",
        "Downright_Images.txt  Images_left.txt\tUp_Images.txt"
      ]
    },
    {
      "cell_type": "markdown",
      "metadata": {
        "id": "VpJnsRQhBzSb",
        "colab_type": "text"
      },
      "source": [
        "# Change the directory to the one where we have the text files with the link for downloading the images"
      ]
    },
    {
      "cell_type": "code",
      "metadata": {
        "id": "W0lZYNySBzSc",
        "colab_type": "code",
        "colab": {}
      },
      "source": [
        "! cd Data_16_EVA/"
      ],
      "execution_count": 0,
      "outputs": []
    },
    {
      "cell_type": "code",
      "metadata": {
        "id": "wjDlxVy_BzSe",
        "colab_type": "code",
        "colab": {}
      },
      "source": [
        "os.chdir()\n",
        "! pwd\n"
      ],
      "execution_count": 0,
      "outputs": []
    },
    {
      "cell_type": "markdown",
      "metadata": {
        "id": "rDxGV01xBzSh",
        "colab_type": "text"
      },
      "source": [
        "/home/nihar/Desktop"
      ]
    },
    {
      "cell_type": "code",
      "metadata": {
        "id": "hkZUVBhlBzSi",
        "colab_type": "code",
        "colab": {}
      },
      "source": [
        "class vgg_annotation:\n",
        "    \n",
        "    def download_images(folder_name, file_name,folder_path,max_pic):\n",
        "        folder = folder_name\n",
        "        file = file_name \n",
        "        path = Path(folder_path)\n",
        "        dest = path/folder\n",
        "        dest.mkdir(parents=True,exist_ok=True)\n",
        "        download_images(path/file,dest,max_pics = max_pic)\n",
        "        \n",
        "    def resize_one(fn, i, path, size):\n",
        "        dest = path/fn.relative_to(path_hr)\n",
        "        dest.parent.mkdir(parents=True, exist_ok=True)\n",
        "        img = PIL.Image.open(fn)\n",
        "        targ_sz = resize_to(img, size, use_min=True)\n",
        "        img = img.resize(targ_sz, resample=PIL.Image.BILINEAR).convert('RGB')\n",
        "        img.save(dest, quality=75)\n",
        "        \n",
        "    def rename_files(path1): \n",
        "        i = 200\n",
        "        for filename in os.listdir(path1): \n",
        "            dst =\"image_\" + str(i) + \".jpg\"\n",
        "            print(dst)\n",
        "            src = path1/filename\n",
        "            dst = path1/dst \n",
        "            print(src)\n",
        "            print(dst)\n",
        "            # rename() function will \n",
        "            # rename all the files \n",
        "            print(filename)                \n",
        "            os.rename(src, dst) \n",
        "            i += 1\n",
        "    def rename_files_updated(path): \n",
        "    i = 10\n",
        "    path1 =  path/'data1'\n",
        "    for dirname in os.listdir(path1):\n",
        "        for filename in os.listdir(path1/dirname): \n",
        "            dst =\"image_0\" + str(i) + \".jpg\"\n",
        "            src = path1/dirname/filename \n",
        "            dst = path1/dirname/dst\n",
        "\n",
        "            # rename() function will \n",
        "            # rename all the files \n",
        "            print(filename)                \n",
        "            os.rename(src, dst) \n",
        "            i += 1\n"
      ],
      "execution_count": 0,
      "outputs": []
    },
    {
      "cell_type": "code",
      "metadata": {
        "id": "9dJ0FydOBzSl",
        "colab_type": "code",
        "colab": {},
        "outputId": "e1f3f238-b9ef-4894-ee89-d9ca399f5eec"
      },
      "source": [
        "folder_name = ['Down','Back','Right','Upleft','Downleft','Front','Top_Images','Up_right','Downright','Left','Up',\"two_celebrity_images\",\"diff_poses\"]\n",
        "file = ['Images_Down.txt','Images_Back.txt','Images_Right.txt','upleft_images.txt','Downleft_images.txt','Images_Front.txt','Top_Images.txt','upright.txt','Downright_Images.txt','Images_left.txt','Up_Images.txt','two_celebrities.txt','diff_poses.txt']\n",
        "path = Path('Data_19_EVA/')\n",
        "max_pic = [50,30,50,50,30,25,35,50,30,40,100,100,100]\n",
        "\n",
        "for i in range(len(folder_name)):\n",
        "    vgg_annotation.download_images(folder_name[i], file_name[i],path,max_pic[i])"
      ],
      "execution_count": 0,
      "outputs": [
        {
          "output_type": "stream",
          "text": [
            "13\n",
            "13\n",
            "Down\n",
            "Images_Down.txt\n",
            "Back\n",
            "Images_Back.txt\n",
            "Right\n",
            "Images_Right.txt\n",
            "Upleft\n",
            "upleft_images.txt\n",
            "Downleft\n",
            "Downleft_images.txt\n",
            "Front\n",
            "Images_Front.txt\n",
            "Top_Images\n",
            "Top_Images.txt\n",
            "Up_right\n",
            "upright.txt\n",
            "Downright\n",
            "Downright_Images.txt\n",
            "Left\n",
            "Images_left.txt\n",
            "Up\n",
            "Up_Images.txt\n",
            "two_celebrity_images\n",
            "two_celebrities.txt\n",
            "diff_poses\n",
            "diff_poses.txt\n"
          ],
          "name": "stdout"
        }
      ]
    },
    {
      "cell_type": "markdown",
      "metadata": {
        "id": "IUYgWT37BzSo",
        "colab_type": "text"
      },
      "source": [
        "# function to resize the image to 400 x 400"
      ]
    },
    {
      "cell_type": "code",
      "metadata": {
        "id": "kTkZdbO4BzSp",
        "colab_type": "code",
        "colab": {}
      },
      "source": [
        "#path = untar_data(URLs.PETS)\n",
        "path_hr = path/'data'/'diff_poses'\n",
        "path_lr = path/'data1'/'diff_poses-400'\n",
        "#path_mr = path/'small-256'\n",
        "\n",
        "il = ImageList.from_folder(path_hr)\n",
        "\n",
        "\n",
        "# create smaller image sets the first time this nb is run\n",
        "sets = [(path_lr, 400)]\n",
        "for p,size in sets:\n",
        "    if not p.exists(): \n",
        "        print(f\"resizing to {size} into {p}\")\n",
        "        parallel(partial(vgg_annotation.resize_one, path=p, size=size), il.items)"
      ],
      "execution_count": 0,
      "outputs": []
    },
    {
      "cell_type": "markdown",
      "metadata": {
        "id": "_VA1rmi0BzSr",
        "colab_type": "text"
      },
      "source": [
        "# Display the file names "
      ]
    },
    {
      "cell_type": "code",
      "metadata": {
        "id": "mZko7-fvBzSs",
        "colab_type": "code",
        "colab": {},
        "outputId": "c39187ff-adc5-4ad4-d2b9-d3a4d39924f2"
      },
      "source": [
        "for filename in os.listdir(path/'data1'):\n",
        "    for file_name in os.listdir(path/'data1'/filename):\n",
        "        print(file_name)"
      ],
      "execution_count": 0,
      "outputs": [
        {
          "output_type": "stream",
          "text": [
            "00000000.jpg\n",
            "00000009.jpg\n",
            "00000028.jpg\n",
            "00000007.jpg\n",
            "00000027.jpg\n",
            "00000017.jpg\n",
            "00000005.jpeg\n",
            "00000004.jpg\n",
            "00000037.jpg\n",
            "00000040.jpg\n",
            "00000039.jpg\n",
            "00000016.jpg\n",
            "00000032.jpg\n",
            "00000011.jpg\n",
            "00000002.jpg\n",
            "00000017.jpg\n",
            "00000008.jpg\n",
            "00000020.jpg\n",
            "00000047.jpg\n",
            "00000004.jpg\n",
            "00000012.jpg\n",
            "00000003.png\n",
            "00000005.jpg\n",
            "00000006.jpg\n",
            "00000011.jpg\n",
            "00000002.jpg\n",
            "00000021.jpg\n",
            "00000019.jpg\n",
            "00000017.jpg\n",
            "00000014.jpg\n",
            "00000010.jpg\n",
            "00000001.jpg\n",
            "00000029.jpg\n",
            "00000009.jpg\n",
            "00000032.jpg\n",
            "00000021.jpg\n",
            "00000019.jpg\n",
            "00000008.jpg\n",
            "00000022.jpg\n",
            "00000036.jpg\n",
            "00000014.jpg\n",
            "00000010.jpg\n",
            "00000020.jpg\n",
            "00000004.jpg\n",
            "00000031.jpg\n",
            "00000012.jpg\n",
            "00000033.jpg\n",
            "00000037.jpg\n",
            "00000034.jpg\n",
            "00000023.jpg\n",
            "00000011.jpg\n",
            "00000026.jpg\n",
            "00000002.jpg\n",
            "00000030.jpg\n",
            "00000035.jpg\n",
            "00000025.png\n",
            "00000022.jpg\n",
            "00000036.jpg\n",
            "00000014.jpg\n",
            "00000001.jpg\n",
            "00000031.jpg\n",
            "00000012.jpg\n",
            "00000039.jpg\n",
            "00000028.jpg\n",
            "00000003.jpg\n",
            "00000011.jpg\n",
            "00000002.jpg\n",
            "00000007.jpg\n",
            "00000037.jpeg\n",
            "00000017.jpg\n",
            "00000008.jpg\n",
            "00000010.jpg\n",
            "00000016.jpg\n",
            "00000038.jpg\n",
            "00000002.jpg\n",
            "00000004.jpg\n",
            "00000018.jpg\n",
            "00000037.jpg\n",
            "00000034.jpg\n",
            "00000029.jpg\n",
            "00000000.jpg\n",
            "00000023.jpg\n",
            "00000007.png\n",
            "00000002.jpg\n",
            "00000021.jpg\n",
            "00000048.png\n",
            "00000036.jpg\n",
            "00000013.jpg\n",
            "00000015.jpg\n",
            "00000024.jpg\n",
            "00000014.jpg\n",
            "00000047.jpg\n",
            "00000041.jpg\n",
            "00000004.jpg\n",
            "00000001.jpg\n",
            "00000031.jpg\n",
            "00000043.jpg\n",
            "00000018.jpg\n",
            "00000012.jpg\n",
            "00000029.jpg\n",
            "00000009.jpg\n",
            "00000016.png\n",
            "00000006.jpg\n",
            "00000011.jpg\n",
            "00000002.jpg\n",
            "00000019.jpg\n",
            "00000008.jpg\n",
            "00000020.jpg\n",
            "00000018.jpg\n",
            "00000012.jpg\n",
            "00000003.jpg\n",
            "00000032.jpg\n",
            "00000025.jpg\n",
            "00000006.jpg\n",
            "00000002.jpg\n",
            "00000007.jpg\n",
            "00000021.jpg\n",
            "00000001.jpg\n",
            "00000031.jpg\n",
            "00000005.jpg\n",
            "00000029.jpg\n",
            "00000025.jpg\n",
            "00000011.jpg\n",
            "00000002.jpg\n",
            "00000007.jpg\n",
            "00000017.jpg\n",
            "00000014.jpg\n",
            "00000004.jpg\n"
          ],
          "name": "stdout"
        }
      ]
    },
    {
      "cell_type": "markdown",
      "metadata": {
        "id": "yvjWopVXBzSv",
        "colab_type": "text"
      },
      "source": [
        "# The following lines of code renames multiple files in a folder "
      ]
    },
    {
      "cell_type": "code",
      "metadata": {
        "id": "sP0WU29xBzSw",
        "colab_type": "code",
        "colab": {},
        "outputId": "7a2fdda2-e43f-4e78-8022-287eeabb2d25"
      },
      "source": [
        "\n",
        "# importing os module \n",
        "import os \n",
        "path1 = Path(path/'data1'/'diff_poses-400')\n",
        "# Function to rename multiple files \n",
        "vgg_annotation.rename_files(path1)"
      ],
      "execution_count": 0,
      "outputs": [
        {
          "output_type": "stream",
          "text": [
            "Data_19_EVA/data1/diff_poses-400\n",
            "image_200.jpg\n",
            "Data_19_EVA/data1/diff_poses-400/00000053.jpg\n",
            "Data_19_EVA/data1/diff_poses-400/image_200.jpg\n",
            "00000053.jpg\n",
            "image_201.jpg\n",
            "Data_19_EVA/data1/diff_poses-400/00000055.jpg\n",
            "Data_19_EVA/data1/diff_poses-400/image_201.jpg\n",
            "00000055.jpg\n",
            "image_202.jpg\n",
            "Data_19_EVA/data1/diff_poses-400/00000095.jpg\n",
            "Data_19_EVA/data1/diff_poses-400/image_202.jpg\n",
            "00000095.jpg\n",
            "image_203.jpg\n",
            "Data_19_EVA/data1/diff_poses-400/00000040.jpg\n",
            "Data_19_EVA/data1/diff_poses-400/image_203.jpg\n",
            "00000040.jpg\n",
            "image_204.jpg\n",
            "Data_19_EVA/data1/diff_poses-400/00000000.jpg\n",
            "Data_19_EVA/data1/diff_poses-400/image_204.jpg\n",
            "00000000.jpg\n",
            "image_205.jpg\n",
            "Data_19_EVA/data1/diff_poses-400/00000012.png\n",
            "Data_19_EVA/data1/diff_poses-400/image_205.jpg\n",
            "00000012.png\n",
            "image_206.jpg\n",
            "Data_19_EVA/data1/diff_poses-400/00000071.jpg\n",
            "Data_19_EVA/data1/diff_poses-400/image_206.jpg\n",
            "00000071.jpg\n",
            "image_207.jpg\n",
            "Data_19_EVA/data1/diff_poses-400/00000060.jpg\n",
            "Data_19_EVA/data1/diff_poses-400/image_207.jpg\n",
            "00000060.jpg\n",
            "image_208.jpg\n",
            "Data_19_EVA/data1/diff_poses-400/00000003.jpg\n",
            "Data_19_EVA/data1/diff_poses-400/image_208.jpg\n",
            "00000003.jpg\n",
            "image_209.jpg\n",
            "Data_19_EVA/data1/diff_poses-400/00000094.jpg\n",
            "Data_19_EVA/data1/diff_poses-400/image_209.jpg\n",
            "00000094.jpg\n",
            "image_210.jpg\n",
            "Data_19_EVA/data1/diff_poses-400/00000085.jpg\n",
            "Data_19_EVA/data1/diff_poses-400/image_210.jpg\n",
            "00000085.jpg\n",
            "image_211.jpg\n",
            "Data_19_EVA/data1/diff_poses-400/00000049.jpg\n",
            "Data_19_EVA/data1/diff_poses-400/image_211.jpg\n",
            "00000049.jpg\n",
            "image_212.jpg\n",
            "Data_19_EVA/data1/diff_poses-400/00000096.jpg\n",
            "Data_19_EVA/data1/diff_poses-400/image_212.jpg\n",
            "00000096.jpg\n",
            "image_213.jpg\n",
            "Data_19_EVA/data1/diff_poses-400/00000006.jpg\n",
            "Data_19_EVA/data1/diff_poses-400/image_213.jpg\n",
            "00000006.jpg\n",
            "image_214.jpg\n",
            "Data_19_EVA/data1/diff_poses-400/00000011.jpg\n",
            "Data_19_EVA/data1/diff_poses-400/image_214.jpg\n",
            "00000011.jpg\n",
            "image_215.jpg\n",
            "Data_19_EVA/data1/diff_poses-400/00000026.jpg\n",
            "Data_19_EVA/data1/diff_poses-400/image_215.jpg\n",
            "00000026.jpg\n",
            "image_216.jpg\n",
            "Data_19_EVA/data1/diff_poses-400/00000002.jpg\n",
            "Data_19_EVA/data1/diff_poses-400/image_216.jpg\n",
            "00000002.jpg\n",
            "image_217.jpg\n",
            "Data_19_EVA/data1/diff_poses-400/00000099.jpg\n",
            "Data_19_EVA/data1/diff_poses-400/image_217.jpg\n",
            "00000099.jpg\n",
            "image_218.jpg\n",
            "Data_19_EVA/data1/diff_poses-400/00000081.jpg\n",
            "Data_19_EVA/data1/diff_poses-400/image_218.jpg\n",
            "00000081.jpg\n",
            "image_219.jpg\n",
            "Data_19_EVA/data1/diff_poses-400/00000098.jpg\n",
            "Data_19_EVA/data1/diff_poses-400/image_219.jpg\n",
            "00000098.jpg\n",
            "image_220.jpg\n",
            "Data_19_EVA/data1/diff_poses-400/00000063.jpg\n",
            "Data_19_EVA/data1/diff_poses-400/image_220.jpg\n",
            "00000063.jpg\n",
            "image_221.jpg\n",
            "Data_19_EVA/data1/diff_poses-400/00000017.jpg\n",
            "Data_19_EVA/data1/diff_poses-400/image_221.jpg\n",
            "00000017.jpg\n",
            "image_222.jpg\n",
            "Data_19_EVA/data1/diff_poses-400/00000008.jpg\n",
            "Data_19_EVA/data1/diff_poses-400/image_222.jpg\n",
            "00000008.jpg\n",
            "image_223.jpg\n",
            "Data_19_EVA/data1/diff_poses-400/00000091.jpeg\n",
            "Data_19_EVA/data1/diff_poses-400/image_223.jpg\n",
            "00000091.jpeg\n",
            "image_224.jpg\n",
            "Data_19_EVA/data1/diff_poses-400/00000075.jpg\n",
            "Data_19_EVA/data1/diff_poses-400/image_224.jpg\n",
            "00000075.jpg\n",
            "image_225.jpg\n",
            "Data_19_EVA/data1/diff_poses-400/00000014.jpg\n",
            "Data_19_EVA/data1/diff_poses-400/image_225.jpg\n",
            "00000014.jpg\n",
            "image_226.jpg\n",
            "Data_19_EVA/data1/diff_poses-400/00000073.png\n",
            "Data_19_EVA/data1/diff_poses-400/image_226.jpg\n",
            "00000073.png\n",
            "image_227.jpg\n",
            "Data_19_EVA/data1/diff_poses-400/00000070.jpg\n",
            "Data_19_EVA/data1/diff_poses-400/image_227.jpg\n",
            "00000070.jpg\n",
            "image_228.jpg\n",
            "Data_19_EVA/data1/diff_poses-400/00000010.jpg\n",
            "Data_19_EVA/data1/diff_poses-400/image_228.jpg\n",
            "00000010.jpg\n",
            "image_229.jpg\n",
            "Data_19_EVA/data1/diff_poses-400/00000020.jpg\n",
            "Data_19_EVA/data1/diff_poses-400/image_229.jpg\n",
            "00000020.jpg\n",
            "image_230.jpg\n",
            "Data_19_EVA/data1/diff_poses-400/00000089.jpg\n",
            "Data_19_EVA/data1/diff_poses-400/image_230.jpg\n",
            "00000089.jpg\n",
            "image_231.jpg\n",
            "Data_19_EVA/data1/diff_poses-400/00000084.JPG\n",
            "Data_19_EVA/data1/diff_poses-400/image_231.jpg\n",
            "00000084.JPG\n"
          ],
          "name": "stdout"
        }
      ]
    },
    {
      "cell_type": "code",
      "metadata": {
        "id": "TjGTNt2yBzSz",
        "colab_type": "code",
        "colab": {},
        "outputId": "bd791b0b-410d-4094-bc9c-68ebf2309e9a"
      },
      "source": [
        "# Function to rename multiple files \n",
        "# Driver Code \n",
        "vgg_annotation.rename_files_updated(path)"
      ],
      "execution_count": 0,
      "outputs": [
        {
          "output_type": "stream",
          "text": [
            "image_014.jpg\n",
            "image_010.jpg\n",
            "image_013.jpg\n",
            "image_016.jpg\n",
            "image_011.jpg\n",
            "image_015.jpg\n",
            "image_017.jpg\n",
            "image_012.jpg\n",
            "image_029.jpg\n",
            "image_023.jpg\n",
            "image_021.jpg\n",
            "image_018.jpg\n",
            "image_028.jpg\n",
            "image_024.jpg\n",
            "image_026.jpg\n",
            "image_025.jpg\n",
            "image_022.jpg\n",
            "image_020.jpg\n",
            "image_027.jpg\n",
            "image_019.jpg\n",
            "image_030.jpg\n",
            "image_034.jpg\n",
            "image_037.jpg\n",
            "image_031.jpg\n",
            "image_032.jpg\n",
            "image_038.jpg\n",
            "image_040.jpg\n",
            "image_039.jpg\n",
            "image_041.jpg\n",
            "image_033.jpg\n",
            "image_036.jpg\n",
            "image_035.jpg\n",
            "image_051.jpg\n",
            "image_044.jpg\n",
            "image_049.jpg\n",
            "image_042.jpg\n",
            "image_054.jpg\n",
            "image_048.jpg\n",
            "image_050.jpg\n",
            "image_045.jpg\n",
            "image_053.jpg\n",
            "image_043.jpg\n",
            "image_046.jpg\n",
            "image_052.jpg\n",
            "image_047.jpg\n",
            "image_070.jpg\n",
            "image_062.jpg\n",
            "image_068.jpg\n",
            "image_069.jpg\n",
            "image_066.jpg\n",
            "image_056.jpg\n",
            "image_059.jpg\n",
            "image_060.jpg\n",
            "image_058.jpg\n",
            "image_055.jpg\n",
            "image_063.jpg\n",
            "image_064.jpg\n",
            "image_057.jpg\n",
            "image_065.jpg\n",
            "image_061.jpg\n",
            "image_067.jpg\n",
            "image_071.jpg\n",
            "image_080.jpg\n",
            "image_075.jpg\n",
            "image_076.jpg\n",
            "image_078.jpg\n",
            "image_074.jpg\n",
            "image_072.jpg\n",
            "image_073.jpg\n",
            "image_077.jpg\n",
            "image_081.jpg\n",
            "image_079.jpg\n"
          ],
          "name": "stdout"
        },
        {
          "output_type": "error",
          "ename": "NotADirectoryError",
          "evalue": "[Errno 20] Not a directory: 'Data_19_EVA/data1/two_celebrity_images-400.zip'",
          "traceback": [
            "\u001b[0;31m---------------------------------------------------------------------------\u001b[0m",
            "\u001b[0;31mNotADirectoryError\u001b[0m                        Traceback (most recent call last)",
            "\u001b[0;32m<ipython-input-104-d7dc97aa89e9>\u001b[0m in \u001b[0;36m<module>\u001b[0;34m\u001b[0m\n\u001b[1;32m     25\u001b[0m \u001b[0;34m\u001b[0m\u001b[0m\n\u001b[1;32m     26\u001b[0m     \u001b[0;31m# Calling main() function\u001b[0m\u001b[0;34m\u001b[0m\u001b[0;34m\u001b[0m\u001b[0;34m\u001b[0m\u001b[0m\n\u001b[0;32m---> 27\u001b[0;31m     \u001b[0mmain\u001b[0m\u001b[0;34m(\u001b[0m\u001b[0;34m)\u001b[0m\u001b[0;34m\u001b[0m\u001b[0;34m\u001b[0m\u001b[0m\n\u001b[0m",
            "\u001b[0;32m<ipython-input-104-d7dc97aa89e9>\u001b[0m in \u001b[0;36mmain\u001b[0;34m()\u001b[0m\n\u001b[1;32m     10\u001b[0m     \u001b[0mpath1\u001b[0m \u001b[0;34m=\u001b[0m  \u001b[0mpath\u001b[0m\u001b[0;34m/\u001b[0m\u001b[0;34m'data1'\u001b[0m\u001b[0;34m\u001b[0m\u001b[0;34m\u001b[0m\u001b[0m\n\u001b[1;32m     11\u001b[0m     \u001b[0;32mfor\u001b[0m \u001b[0mdirname\u001b[0m \u001b[0;32min\u001b[0m \u001b[0mos\u001b[0m\u001b[0;34m.\u001b[0m\u001b[0mlistdir\u001b[0m\u001b[0;34m(\u001b[0m\u001b[0mpath1\u001b[0m\u001b[0;34m)\u001b[0m\u001b[0;34m:\u001b[0m\u001b[0;34m\u001b[0m\u001b[0;34m\u001b[0m\u001b[0m\n\u001b[0;32m---> 12\u001b[0;31m         \u001b[0;32mfor\u001b[0m \u001b[0mfilename\u001b[0m \u001b[0;32min\u001b[0m \u001b[0mos\u001b[0m\u001b[0;34m.\u001b[0m\u001b[0mlistdir\u001b[0m\u001b[0;34m(\u001b[0m\u001b[0mpath1\u001b[0m\u001b[0;34m/\u001b[0m\u001b[0mdirname\u001b[0m\u001b[0;34m)\u001b[0m\u001b[0;34m:\u001b[0m\u001b[0;34m\u001b[0m\u001b[0;34m\u001b[0m\u001b[0m\n\u001b[0m\u001b[1;32m     13\u001b[0m             \u001b[0mdst\u001b[0m \u001b[0;34m=\u001b[0m\u001b[0;34m\"image_0\"\u001b[0m \u001b[0;34m+\u001b[0m \u001b[0mstr\u001b[0m\u001b[0;34m(\u001b[0m\u001b[0mi\u001b[0m\u001b[0;34m)\u001b[0m \u001b[0;34m+\u001b[0m \u001b[0;34m\".jpg\"\u001b[0m\u001b[0;34m\u001b[0m\u001b[0;34m\u001b[0m\u001b[0m\n\u001b[1;32m     14\u001b[0m             \u001b[0msrc\u001b[0m \u001b[0;34m=\u001b[0m \u001b[0mpath1\u001b[0m\u001b[0;34m/\u001b[0m\u001b[0mdirname\u001b[0m\u001b[0;34m/\u001b[0m\u001b[0mfilename\u001b[0m\u001b[0;34m\u001b[0m\u001b[0;34m\u001b[0m\u001b[0m\n",
            "\u001b[0;31mNotADirectoryError\u001b[0m: [Errno 20] Not a directory: 'Data_19_EVA/data1/two_celebrity_images-400.zip'"
          ]
        }
      ]
    },
    {
      "cell_type": "markdown",
      "metadata": {
        "id": "UimPvbkvBzS2",
        "colab_type": "text"
      },
      "source": [
        "# import json and path "
      ]
    },
    {
      "cell_type": "code",
      "metadata": {
        "id": "kn7YSEemBzS3",
        "colab_type": "code",
        "colab": {}
      },
      "source": [
        "from pathlib import Path\n",
        "import json"
      ],
      "execution_count": 0,
      "outputs": []
    },
    {
      "cell_type": "markdown",
      "metadata": {
        "id": "2X1L_JlGBzS6",
        "colab_type": "text"
      },
      "source": [
        "# print the path positions"
      ]
    },
    {
      "cell_type": "code",
      "metadata": {
        "id": "_m22VncNBzS6",
        "colab_type": "code",
        "colab": {},
        "outputId": "feaec91f-9082-4a0d-a3a8-7a54e7ea0733"
      },
      "source": [
        "list(path.iterdir())"
      ],
      "execution_count": 0,
      "outputs": [
        {
          "output_type": "execute_result",
          "data": {
            "text/plain": [
              "[PosixPath('Data_19_EVA/upleft_images.txt'),\n",
              " PosixPath('Data_19_EVA/two_celebrities.txt'),\n",
              " PosixPath('Data_19_EVA/Images_Right.txt'),\n",
              " PosixPath('Data_19_EVA/data_resized_renamed.zip'),\n",
              " PosixPath('Data_19_EVA/Images_left.txt'),\n",
              " PosixPath('Data_19_EVA/Images_Front.txt'),\n",
              " PosixPath('Data_19_EVA/data1.zip'),\n",
              " PosixPath('Data_19_EVA/upright.txt'),\n",
              " PosixPath('Data_19_EVA/data'),\n",
              " PosixPath('Data_19_EVA/Downright_Images.txt'),\n",
              " PosixPath('Data_19_EVA/Images_Back.txt'),\n",
              " PosixPath('Data_19_EVA/Up_Images.txt'),\n",
              " PosixPath('Data_19_EVA/total_data'),\n",
              " PosixPath('Data_19_EVA/Downleft_images.txt'),\n",
              " PosixPath('Data_19_EVA/Down_Images.txt'),\n",
              " PosixPath('Data_19_EVA/via_project_23Sep2019_16h36m.json'),\n",
              " PosixPath('Data_19_EVA/diff_poses.txt'),\n",
              " PosixPath('Data_19_EVA/data1'),\n",
              " PosixPath('Data_19_EVA/Top_Images.txt')]"
            ]
          },
          "metadata": {
            "tags": []
          },
          "execution_count": 109
        }
      ]
    },
    {
      "cell_type": "markdown",
      "metadata": {
        "id": "ZDE8_XKsBzS-",
        "colab_type": "text"
      },
      "source": [
        "# load the json file to the notebook"
      ]
    },
    {
      "cell_type": "code",
      "metadata": {
        "id": "sF_RQjDDBzS-",
        "colab_type": "code",
        "colab": {}
      },
      "source": [
        "import os, json\n",
        "with open(\"via_project_23Sep2019_16h36m.json\", 'r') as f:\n",
        "    trn_j = json.load(f)\n"
      ],
      "execution_count": 0,
      "outputs": []
    },
    {
      "cell_type": "markdown",
      "metadata": {
        "id": "fGT_kxwvBzTE",
        "colab_type": "text"
      },
      "source": [
        "# Display the keys of the dictionary "
      ]
    },
    {
      "cell_type": "code",
      "metadata": {
        "id": "pj-OyT5XBzTF",
        "colab_type": "code",
        "colab": {},
        "outputId": "e8abdb84-1b73-403b-a26f-7e2fe70de645"
      },
      "source": [
        "trn_j.keys()"
      ],
      "execution_count": 0,
      "outputs": [
        {
          "output_type": "execute_result",
          "data": {
            "text/plain": [
              "dict_keys(['_via_settings', '_via_img_metadata', '_via_attributes'])"
            ]
          },
          "metadata": {
            "tags": []
          },
          "execution_count": 33
        }
      ]
    },
    {
      "cell_type": "markdown",
      "metadata": {
        "id": "QKk771IkBzTL",
        "colab_type": "text"
      },
      "source": [
        "# Append the width and height of the object into the list "
      ]
    },
    {
      "cell_type": "code",
      "metadata": {
        "id": "Q0gSx0lCBzTO",
        "colab_type": "code",
        "colab": {}
      },
      "source": [
        "trn_bb = collections.defaultdict(lambda : [])\n",
        "width= []\n",
        "height = []\n",
        "image_meta_dict = trn_j['_via_img_metadata']\n",
        "for inner_dict_value in image_meta_dict.keys():\n",
        "    inner_dict = image_meta_dict[inner_dict_value]\n",
        "    img_name = inner_dict['filename']\n",
        "    #print(img_name)\n",
        "    for each_bb in inner_dict['regions']:\n",
        "        bb_w= each_bb['shape_attributes']['width']\n",
        "        bb_h = each_bb['shape_attributes']['height']\n",
        "        width.append(bb_w)\n",
        "        height.append(bb_h)"
      ],
      "execution_count": 0,
      "outputs": []
    },
    {
      "cell_type": "markdown",
      "metadata": {
        "id": "iBnbwOWfBzTR",
        "colab_type": "text"
      },
      "source": [
        "# Divide the image width and height by 400 "
      ]
    },
    {
      "cell_type": "code",
      "metadata": {
        "id": "sawUl5nEBzTS",
        "colab_type": "code",
        "colab": {}
      },
      "source": [
        "width_array = np.array(width)/400\n",
        "heigth_array = np.array(height)/400"
      ],
      "execution_count": 0,
      "outputs": []
    },
    {
      "cell_type": "markdown",
      "metadata": {
        "id": "1DSPDQO0BzTU",
        "colab_type": "text"
      },
      "source": [
        "# Print to see it works as expected "
      ]
    },
    {
      "cell_type": "code",
      "metadata": {
        "id": "p_BKBzqjBzTV",
        "colab_type": "code",
        "colab": {},
        "outputId": "aadd35fc-712c-4df4-d382-29b6c1a67d2c"
      },
      "source": [
        "print(width_array)"
      ],
      "execution_count": 0,
      "outputs": [
        {
          "output_type": "stream",
          "text": [
            "[0.45   0.3725 0.685  0.3    ... 0.31   0.1975 0.1075 0.155 ]\n"
          ],
          "name": "stdout"
        }
      ]
    },
    {
      "cell_type": "code",
      "metadata": {
        "id": "Z5wcaOj2BzTX",
        "colab_type": "code",
        "colab": {},
        "outputId": "6518d6b8-b9a3-4bc1-ade4-ae8475bcdd27"
      },
      "source": [
        "print(heigth_array)"
      ],
      "execution_count": 0,
      "outputs": [
        {
          "output_type": "stream",
          "text": [
            "[0.4975 0.435  0.69   0.3275 ... 0.305  0.1825 0.1575 0.145 ]\n"
          ],
          "name": "stdout"
        }
      ]
    },
    {
      "cell_type": "markdown",
      "metadata": {
        "id": "vZbKpd__BzTZ",
        "colab_type": "text"
      },
      "source": [
        "# Stack the width and height in a list"
      ]
    },
    {
      "cell_type": "code",
      "metadata": {
        "id": "ogSH6surBzTa",
        "colab_type": "code",
        "colab": {}
      },
      "source": [
        "X = np.column_stack((width_array,heigth_array))"
      ],
      "execution_count": 0,
      "outputs": []
    },
    {
      "cell_type": "markdown",
      "metadata": {
        "id": "Bwvg5iJkBzTc",
        "colab_type": "text"
      },
      "source": [
        "# Print to see the above worked "
      ]
    },
    {
      "cell_type": "code",
      "metadata": {
        "id": "2nu90fQIBzTd",
        "colab_type": "code",
        "colab": {},
        "outputId": "d3f5b08e-a268-4290-8c33-845961bc1b4c"
      },
      "source": [
        "X[:3]"
      ],
      "execution_count": 0,
      "outputs": [
        {
          "output_type": "execute_result",
          "data": {
            "text/plain": [
              "array([[0.45  , 0.4975],\n",
              "       [0.3725, 0.435 ],\n",
              "       [0.685 , 0.69  ]])"
            ]
          },
          "metadata": {
            "tags": []
          },
          "execution_count": 80
        }
      ]
    },
    {
      "cell_type": "markdown",
      "metadata": {
        "id": "Mt4rbrx9BzTf",
        "colab_type": "text"
      },
      "source": [
        "# Scatter plot to show the values of the boundary boxes "
      ]
    },
    {
      "cell_type": "code",
      "metadata": {
        "id": "sqPs1eo-BzTg",
        "colab_type": "code",
        "colab": {},
        "outputId": "cda3d4e8-b464-4e8e-dd3a-72a7ad9441fd"
      },
      "source": [
        "plt.scatter(X[:,0], X[:,1])"
      ],
      "execution_count": 0,
      "outputs": [
        {
          "output_type": "execute_result",
          "data": {
            "text/plain": [
              "<matplotlib.collections.PathCollection at 0x1afe3d0b0b8>"
            ]
          },
          "metadata": {
            "tags": []
          },
          "execution_count": 82
        },
        {
          "output_type": "display_data",
          "data": {
            "image/png": "[encoded data removed]",
            "text/plain": [
              "<Figure size 432x288 with 1 Axes>"
            ]
          },
          "metadata": {
            "tags": []
          }
        }
      ]
    },
    {
      "cell_type": "markdown",
      "metadata": {
        "id": "mQjZVYUBBzTj",
        "colab_type": "text"
      },
      "source": [
        "# The K mean clustering to find the centroid of the images \n",
        "k-means clustering is a method of vector quantization, originally from signal processing, that is popular for cluster analysis in data mining. k-means clustering aims to partition n observations into k clusters in which each observation belongs to the cluster with the nearest mean, serving as a prototype of the cluster. This results in a partitioning of the data space into Voronoi cells. k-Means minimizes within-cluster variances (squared Euclidean distances), but not regular Euclidean distances, which would be the more difficult Weber problem: the mean optimizes squared errors, whereas only the geometric median minimizes Euclidean distances. Better Euclidean solutions can for example be found using k-medians and k-medoids. (Source - wikipedia.org)\n",
        "\n",
        "![](images/kmean.jpg)"
      ]
    },
    {
      "cell_type": "code",
      "metadata": {
        "id": "9Anz9wIaBzTk",
        "colab_type": "code",
        "colab": {},
        "outputId": "58f42cfe-0447-41bd-9d58-dcfd2eca7aef"
      },
      "source": [
        "kmeans = KMeans(n_clusters=4, init='k-means++', max_iter=300, n_init=10, random_state=0)\n",
        "pred_y = kmeans.fit_predict(X)\n",
        "plt.scatter(X[:,0], X[:,1])\n",
        "plt.scatter(kmeans.cluster_centers_[:, 0], kmeans.cluster_centers_[:, 1], s=300, c='green')\n",
        "plt.show()"
      ],
      "execution_count": 0,
      "outputs": [
        {
          "output_type": "display_data",
          "data": {
            "image/png": "[encoded data removed]",
            "text/plain": [
              "<Figure size 432x288 with 1 Axes>"
            ]
          },
          "metadata": {
            "tags": []
          }
        }
      ]
    },
    {
      "cell_type": "markdown",
      "metadata": {
        "id": "sLigaSQmBzTm",
        "colab_type": "text"
      },
      "source": [
        "# Display the centroid of the Anchor boxes based on the finding from the above algorithm "
      ]
    },
    {
      "cell_type": "code",
      "metadata": {
        "id": "Lxb02A4zBzTn",
        "colab_type": "code",
        "colab": {},
        "outputId": "da391143-e6d4-438c-b6a6-fb052c635df2"
      },
      "source": [
        "kmeans.cluster_centers_"
      ],
      "execution_count": 0,
      "outputs": [
        {
          "output_type": "execute_result",
          "data": {
            "text/plain": [
              "array([[0.437153, 0.507083],\n",
              "       [0.172625, 0.176312],\n",
              "       [0.290122, 0.323049],\n",
              "       [0.664667, 0.728333]])"
            ]
          },
          "metadata": {
            "tags": []
          },
          "execution_count": 86
        }
      ]
    },
    {
      "cell_type": "markdown",
      "metadata": {
        "id": "-KhTl-FmBzTp",
        "colab_type": "text"
      },
      "source": [
        "# Let's run it for another 100 images . This time we will not divide the images by 400 as all the images has been reshaped to the same size . Let's see how it works."
      ]
    },
    {
      "cell_type": "code",
      "metadata": {
        "id": "88AaLGC3BzTq",
        "colab_type": "code",
        "colab": {}
      },
      "source": [
        "\n",
        "import os, json\n",
        "with open(\"via_project_assgn16.json\", 'r') as f:\n",
        "    trn_j = json.load(f)\n"
      ],
      "execution_count": 0,
      "outputs": []
    },
    {
      "cell_type": "code",
      "metadata": {
        "id": "y1G5iTZ5BzTs",
        "colab_type": "code",
        "colab": {}
      },
      "source": [
        "trn_bb = collections.defaultdict(lambda : [])\n",
        "width= []\n",
        "height = []\n",
        "image_meta_dict = trn_j['_via_img_metadata']\n",
        "for inner_dict_value in image_meta_dict.keys():\n",
        "    inner_dict = image_meta_dict[inner_dict_value]\n",
        "    img_name = inner_dict['filename']\n",
        "    #print(img_name)\n",
        "    for each_bb in inner_dict['regions']:\n",
        "        bb_w= each_bb['shape_attributes']['width']\n",
        "        bb_h = each_bb['shape_attributes']['height']\n",
        "        width.append(bb_w)\n",
        "        height.append(bb_h)"
      ],
      "execution_count": 0,
      "outputs": []
    },
    {
      "cell_type": "code",
      "metadata": {
        "id": "qNnJB_reBzTv",
        "colab_type": "code",
        "colab": {}
      },
      "source": [
        "width_array = np.array(width)\n",
        "heigth_array = np.array(height)"
      ],
      "execution_count": 0,
      "outputs": []
    },
    {
      "cell_type": "code",
      "metadata": {
        "id": "lAadgOxkBzTy",
        "colab_type": "code",
        "colab": {}
      },
      "source": [
        "X = np.column_stack((width_array,heigth_array))"
      ],
      "execution_count": 0,
      "outputs": []
    },
    {
      "cell_type": "code",
      "metadata": {
        "id": "G2EdLI72BzT4",
        "colab_type": "code",
        "colab": {},
        "outputId": "0f440339-6342-41d4-fbd9-1252036b8bfc"
      },
      "source": [
        "plt.scatter(X[:,0], X[:,1])"
      ],
      "execution_count": 0,
      "outputs": [
        {
          "output_type": "execute_result",
          "data": {
            "text/plain": [
              "<matplotlib.collections.PathCollection at 0x1afe3eb9518>"
            ]
          },
          "metadata": {
            "tags": []
          },
          "execution_count": 98
        },
        {
          "output_type": "display_data",
          "data": {
            "image/png": "[encoded data removed]",
            "text/plain": [
              "<Figure size 432x288 with 1 Axes>"
            ]
          },
          "metadata": {
            "tags": []
          }
        }
      ]
    },
    {
      "cell_type": "code",
      "metadata": {
        "id": "bknSy22dBzT9",
        "colab_type": "code",
        "colab": {},
        "outputId": "501cceec-bf24-40be-b6d3-5e9c03b92414"
      },
      "source": [
        "kmeans = KMeans(n_clusters=4, init='k-means++', max_iter=300, n_init=10, random_state=0)\n",
        "pred_y = kmeans.fit_predict(X)\n",
        "plt.scatter(X[:,0], X[:,1])\n",
        "plt.scatter(kmeans.cluster_centers_[:, 0], kmeans.cluster_centers_[:, 1], s=300, c='red')\n",
        "plt.show()"
      ],
      "execution_count": 0,
      "outputs": [
        {
          "output_type": "display_data",
          "data": {
            "image/png": "[encoded data removed]",
            "text/plain": [
              "<Figure size 432x288 with 1 Axes>"
            ]
          },
          "metadata": {
            "tags": []
          }
        }
      ]
    },
    {
      "cell_type": "code",
      "metadata": {
        "id": "RPZLtwSCBzUC",
        "colab_type": "code",
        "colab": {},
        "outputId": "a6251a49-f47b-4c52-c5b7-ccb9d59e7295"
      },
      "source": [
        "kmeans.cluster_centers_"
      ],
      "execution_count": 0,
      "outputs": [
        {
          "output_type": "execute_result",
          "data": {
            "text/plain": [
              "array([[174.861111, 202.833333],\n",
              "       [ 69.05    ,  70.525   ],\n",
              "       [116.04878 , 129.219512],\n",
              "       [265.866667, 291.333333]])"
            ]
          },
          "metadata": {
            "tags": []
          },
          "execution_count": 101
        }
      ]
    },
    {
      "cell_type": "markdown",
      "metadata": {
        "id": "3U_8ymgOBzUE",
        "colab_type": "text"
      },
      "source": [
        "#Summary\n",
        "\n",
        "The above assignments shows how to find the anchor boxes from a set of images . Also it's important to know that each image must be of the same size (second case), if not then we need to bring all the images to the same size (first case). We will use this data in our face detection assignment .\n",
        "So stay tuned !\n",
        "\n",
        "******* End ***********"
      ]
    }
  ]
}