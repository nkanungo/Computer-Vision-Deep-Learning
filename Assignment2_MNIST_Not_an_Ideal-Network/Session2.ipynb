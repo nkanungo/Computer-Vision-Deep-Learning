{
  "nbformat": 4,
  "nbformat_minor": 0,
  "metadata": {
    "colab": {
      "name": "Session2.ipynb",
      "version": "0.3.2",
      "provenance": [],
      "collapsed_sections": []
    },
    "kernelspec": {
      "name": "python3",
      "display_name": "Python 3"
    },
    "accelerator": "GPU"
  },
  "cells": [
    {
      "cell_type": "markdown",
      "metadata": {
        "id": "-nJ7YEw_vyjG",
        "colab_type": "text"
      },
      "source": [
        "# **Not an ideal network**"
      ]
    },
    {
      "cell_type": "markdown",
      "metadata": {
        "id": "24V2GQjlUPaJ",
        "colab_type": "text"
      },
      "source": [
        "# Program Name : Not an ideal Network \n",
        "# Developed and updated by : EVA Admin & Nihar Kanungo\n",
        "# Batch  : EVA Batch 2 Monday \n",
        "# Submitted Date : 27th July 2019\n",
        "# Abstract \n",
        "\n",
        "This Program describes the \"Not an Ideal Network\" scenario. That means there must be some code that is not used in ideal conditions. Let's explore the codes line by line and find out the piece of code that makes it not ideal. Once we figure out the code we may try to fix it if possible . \n",
        "\n",
        "So let's go ahead and see the codes . For easy understanding of the code we have added comments to each/most of the lines ."
      ]
    },
    {
      "cell_type": "markdown",
      "metadata": {
        "id": "SRQJtviKVklS",
        "colab_type": "text"
      },
      "source": [
        "==============================================================================================================\n",
        "\n",
        "Keras  is a high level tensorflow API which is widely used for Deep Learning and Computer vision applications of Machine Learning \n",
        "The following lines of the code will install keras using pip and import keras and all it's functionalities to the notebook\n",
        "\n",
        "==============================================================================================================="
      ]
    },
    {
      "cell_type": "code",
      "metadata": {
        "id": "kGWv5hBhv2jf",
        "colab_type": "code",
        "colab": {
          "base_uri": "https://localhost:8080/",
          "height": 34
        },
        "outputId": "37347c5b-a8ad-4681-ca98-1340cc6f5c1c"
      },
      "source": [
        "# Install Keras using pip \n",
        "# https://keras.io/\n",
        "!pip install -q keras\n",
        "# import keras library into the jupyter notebook\n",
        "import keras"
      ],
      "execution_count": 1,
      "outputs": [
        {
          "output_type": "stream",
          "text": [
            "Using TensorFlow backend.\n"
          ],
          "name": "stderr"
        }
      ]
    },
    {
      "cell_type": "markdown",
      "metadata": {
        "id": "H6tu99gQWVTZ",
        "colab_type": "text"
      },
      "source": [
        "The following cell will import all necessary packages for runnning the algorithm to train the data "
      ]
    },
    {
      "cell_type": "code",
      "metadata": {
        "id": "wnMlDJQKv4VG",
        "colab_type": "code",
        "colab": {}
      },
      "source": [
        "# Importing numpy will inclide all the mathematical features ( matrix, vector etc..) to the program\n",
        "import numpy as np\n",
        "\n",
        "# importing the sequential API of keras to the notebook. The sequential API allows to create model layer by layer for most of the problems\n",
        "from keras.models import Sequential\n",
        "# Import Flatten which is required to convert the images into matrix format which can be trained using the Sequential API\n",
        "from keras.layers import Flatten\n",
        "# Import 2D convolution features\n",
        "from keras.layers import Convolution2D\n",
        "# Import the numpy utilities \n",
        "from keras.utils import np_utils\n",
        "# Import the mnist dataset which is a corpus of all handwritten digits \n",
        "from keras.datasets import mnist"
      ],
      "execution_count": 0,
      "outputs": []
    },
    {
      "cell_type": "markdown",
      "metadata": {
        "id": "mtqr-YZpXqwA",
        "colab_type": "text"
      },
      "source": [
        "MNIST is a popular dataset which includes all the handwritten digits. MNIST typically comes with Train and Test Split. "
      ]
    },
    {
      "cell_type": "code",
      "metadata": {
        "id": "8CdSu2lMwB9s",
        "colab_type": "code",
        "colab": {
          "base_uri": "https://localhost:8080/",
          "height": 51
        },
        "outputId": "0a86e990-722c-4217-b75c-3fddb4c5a006"
      },
      "source": [
        "# Load the MNIST data into the variables defined in the program . X_train and X_test are the features where as y_train & y_test are the target variables  \n",
        "(X_train, y_train), (X_test, y_test) = mnist.load_data()"
      ],
      "execution_count": 3,
      "outputs": [
        {
          "output_type": "stream",
          "text": [
            "Downloading data from https://s3.amazonaws.com/img-datasets/mnist.npz\n",
            "11493376/11490434 [==============================] - 2s 0us/step\n"
          ],
          "name": "stdout"
        }
      ]
    },
    {
      "cell_type": "code",
      "metadata": {
        "id": "tLaDf0-rwCmj",
        "colab_type": "code",
        "colab": {
          "base_uri": "https://localhost:8080/",
          "height": 303
        },
        "outputId": "0e5efd1d-68c9-4a5e-b255-3fa9371d5a40"
      },
      "source": [
        "# The following line of code will print the shape of the training features in the cell of the notebook . \n",
        "print (X_train.shape)\n",
        "#************************************************************************************************************************************** \n",
        "# Matplotlib is a very popular package used for data visualization primarily by plotting charts/graphs for Exploratory Data Analytics. \n",
        "# The visual representation provides a great amount of information to data analysts for future actions to be taken \n",
        "#************************************************************************************************************************************** \n",
        "from matplotlib import pyplot as plt\n",
        "# This line of code will display the output inline without the user explicitely asking the code to plot the chart/graph\n",
        "%matplotlib inline\n",
        "# This line of code plot the data with index 0 ( the first one only)\n",
        "plt.imshow(X_train[0])"
      ],
      "execution_count": 4,
      "outputs": [
        {
          "output_type": "stream",
          "text": [
            "(60000, 28, 28)\n"
          ],
          "name": "stdout"
        },
        {
          "output_type": "execute_result",
          "data": {
            "text/plain": [
              "<matplotlib.image.AxesImage at 0x7fedd0cd1f28>"
            ]
          },
          "metadata": {
            "tags": []
          },
          "execution_count": 4
        },
        {
          "output_type": "display_data",
          "data": {
            "image/png": "[encoded data removed]",
            "text/plain": [
              "<Figure size 432x288 with 1 Axes>"
            ]
          },
          "metadata": {
            "tags": []
          }
        }
      ]
    },
    {
      "cell_type": "code",
      "metadata": {
        "id": "erb11jNwwFwl",
        "colab_type": "code",
        "colab": {}
      },
      "source": [
        "# The following lines of code reshapes the training and testing features to 28 * 28 image size with single channel .\n",
        "X_train = X_train.reshape(X_train.shape[0], 28, 28,1)\n",
        "X_test = X_test.reshape(X_test.shape[0], 28, 28,1)"
      ],
      "execution_count": 0,
      "outputs": []
    },
    {
      "cell_type": "code",
      "metadata": {
        "id": "RLK4YDoRwHet",
        "colab_type": "code",
        "colab": {}
      },
      "source": [
        "# In Keras the data has to be converted into a specific format which is float 32 . The following lines of code converts the data format into Float32 .\n",
        "X_train = X_train.astype('float32')\n",
        "X_test = X_test.astype('float32')\n",
        "#*************************************************************************************************************************************************************************** \n",
        "# Normalization/Standardization is an important aspect of the data/features to ensure that the data points are in a specfic range . The following lines of code will divide \n",
        "# each data point in training and testing data by 255 to keep the number with in 0-1 .255 refers to the value of the colors .\n",
        "#*************************************************************************************************************************************************************************** \n",
        "X_train /= 255\n",
        "X_test /= 255"
      ],
      "execution_count": 0,
      "outputs": []
    },
    {
      "cell_type": "code",
      "metadata": {
        "id": "JNKLOmhlwJQl",
        "colab_type": "code",
        "colab": {
          "base_uri": "https://localhost:8080/",
          "height": 34
        },
        "outputId": "fe97a605-dc65-4dd6-b685-332b75eb37a4"
      },
      "source": [
        "# The following line of code display the first 10 training levels .The levels here are the digits that are written\n",
        "y_train[:10]"
      ],
      "execution_count": 7,
      "outputs": [
        {
          "output_type": "execute_result",
          "data": {
            "text/plain": [
              "array([5, 0, 4, 1, 9, 2, 1, 3, 1, 4], dtype=uint8)"
            ]
          },
          "metadata": {
            "tags": []
          },
          "execution_count": 7
        }
      ]
    },
    {
      "cell_type": "code",
      "metadata": {
        "id": "YusMJguiwKsM",
        "colab_type": "code",
        "colab": {}
      },
      "source": [
        "# Convert 1-dimensional class arrays to 10-dimensional class matrices\n",
        "Y_train = np_utils.to_categorical(y_train, 10)\n",
        "Y_test = np_utils.to_categorical(y_test, 10)"
      ],
      "execution_count": 0,
      "outputs": []
    },
    {
      "cell_type": "code",
      "metadata": {
        "id": "upxc99AswMW0",
        "colab_type": "code",
        "colab": {
          "base_uri": "https://localhost:8080/",
          "height": 187
        },
        "outputId": "04f8194f-5332-43be-b644-e509e9038c9c"
      },
      "source": [
        "# The converted target training values after modified as 10-dimensional class matrices. This process is also known as one hot encoding \n",
        "Y_train[:10]\n"
      ],
      "execution_count": 9,
      "outputs": [
        {
          "output_type": "execute_result",
          "data": {
            "text/plain": [
              "array([[0., 0., 0., 0., 0., 1., 0., 0., 0., 0.],\n",
              "       [1., 0., 0., 0., 0., 0., 0., 0., 0., 0.],\n",
              "       [0., 0., 0., 0., 1., 0., 0., 0., 0., 0.],\n",
              "       [0., 1., 0., 0., 0., 0., 0., 0., 0., 0.],\n",
              "       [0., 0., 0., 0., 0., 0., 0., 0., 0., 1.],\n",
              "       [0., 0., 1., 0., 0., 0., 0., 0., 0., 0.],\n",
              "       [0., 1., 0., 0., 0., 0., 0., 0., 0., 0.],\n",
              "       [0., 0., 0., 1., 0., 0., 0., 0., 0., 0.],\n",
              "       [0., 1., 0., 0., 0., 0., 0., 0., 0., 0.],\n",
              "       [0., 0., 0., 0., 1., 0., 0., 0., 0., 0.]], dtype=float32)"
            ]
          },
          "metadata": {
            "tags": []
          },
          "execution_count": 9
        }
      ]
    },
    {
      "cell_type": "markdown",
      "metadata": {
        "id": "SCtqjxR2i16y",
        "colab_type": "text"
      },
      "source": [
        "The Following lines of code are the heart of the model training . it includes\n",
        "1. Import the Activation function ( Sigmoid, tanh,Relu etc.)\n",
        "2. Import 2D Maxpooling which can be used in conjuction with the Convolution layer\n",
        "3. Use multiple convolution functions on the input image\n",
        "4. Add Flatten Layer\n",
        "5. Add Softmax Activation to find out the Target with maximum proability \n",
        "6. Print the Model Summary\n",
        "7. Compile the model using \n",
        "\n",
        "    a. adam optimizer ( Popular optimizer is SGD) \n",
        "    b. Loss function as categorical crossentropy\n",
        "    c. Evaluation method as Accuracy of the prediction\n",
        "    \n",
        "8. Fit the training data using the complied model with the following hyper parameters\n",
        "\n",
        "    a. Batch size of 32\n",
        "    b. for 10 iterations for the training data \n",
        "    c. An animated progress bar for Verbose=1\n",
        "    \n",
        "9. Fit the model with the input data (X_train) against the target (Y_train)\n",
        "10. Print the Model as trained \n",
        "11. Predict the test data using the model trained \n",
        "12. Print the prediction\n",
        "\n"
      ]
    },
    {
      "cell_type": "code",
      "metadata": {
        "id": "irTVUE47wNwr",
        "colab_type": "code",
        "colab": {
          "base_uri": "https://localhost:8080/",
          "height": 870
        },
        "outputId": "f15caf83-6ac6-48d4-d93b-5e710c7f076f"
      },
      "source": [
        "# Print the import statements \n",
        "from keras.layers import Activation, MaxPooling2D\n",
        "# define the keras sequential model which can train multiple layers \n",
        "model = Sequential() \n",
        "\n",
        "# Add a convolution layer with 32 kernels of size 3*3 on input image of size 28 * 28\n",
        "model.add(Convolution2D(32, 3, 3, activation='relu', input_shape=(28,28,1))) # Input image - 28* 28*1 , Kernel size : 3 * 3 * 1  , No of kernels 32 , Output 26 * 26 * 32\n",
        "\n",
        "# Add a convolution layer with 64 kernels of size 3*3 * 32 on input  of size 26 * 26 * 32\n",
        "model.add(Convolution2D(64, 3, 3, activation='relu')) # Input image - 26* 26*32 , Kernel size : 3 * 3 * 32  , No of kernels 64 , Output 24 * 24 * 64\n",
        "\n",
        "# Add a convolution layer with 128 kernels of size 3*3* 64 on input  of size 24 * 24 * 64\n",
        "model.add(Convolution2D(128, 3, 3, activation='relu')) # Input image - 24* 24*64 , Kernel size : 3 * 3 * 64  , No of kernels 128 , Output 22 * 22 * 128\n",
        "\n",
        "# Maxpooling layer of size 2*2 applied on the above output \n",
        "model.add(MaxPooling2D(pool_size=(2, 2))) # Input image - 22* 22*128 , Max pooling : 2 * 2   , Output 11 * 11 * 256\n",
        "\n",
        "# Add a convolution layer with 256 kernels of size 3*3* 256 on input  of size 11 * 11 * 256\n",
        "model.add(Convolution2D(256, 3, 3, activation='relu')) # Input image - 11* 11*256 , Kernel size : 3 * 3 * 256  , No of kernels 256 , Output 9 * 9 * 256\n",
        "\n",
        "# Add a convolution layer with 512 kernels of size 3*3* 256 on input  of size 9 * 9 * 256\n",
        "model.add(Convolution2D(512, 3, 3, activation='relu')) # Input image - 9* 9*256 , Kernel size : 3 * 3 * 256  , No of kernels 512 , Output 7 * 7 * 512\n",
        "\n",
        "# Add a convolution layer with 1024 kernels of size 3*3* 512 on input  of size 7 * 7 * 512\n",
        "model.add(Convolution2D(1024, 3, 3, activation='relu')) # Input image - 7* 7*512 , Kernel size : 3 * 3 * 512  , No of kernels 1024 , Output 5 * 5 * 1024\n",
        "\n",
        "# Add a convolution layer with 2048 kernels of size 3*3* 1024 on input  of size 5 * 5* 1024\n",
        "model.add(Convolution2D(2048, 3, 3, activation='relu'))# Input image - 5* 5*1024 , Kernel size : 3 * 3 * 1024  , No of kernels 2048, Output 3 * 3 * 2048\n",
        "\n",
        "# Add a convolution layer with 10 kernels (no of classes) of size 3*3* 2048 on input  of size 3 * 3* 2048\n",
        "model.add(Convolution2D(10, 3, 3, activation='relu')) # Input image - 3* 3*2048 , Kernel size : 3 * 3 * 2048  , No of kernels 10 , Output 1 * 1 * 10\n",
        "\n",
        "# flattens the matrix/tensor into one dimension\n",
        "model.add(Flatten())\n",
        "# Apply the Softmax activation on the output value to find out the class with maximum probability as the predicted class/digit to be specific \n",
        "model.add(Activation('softmax'))\n",
        "\n",
        "# Display the model summary\n",
        "model.summary()"
      ],
      "execution_count": 12,
      "outputs": [
        {
          "output_type": "stream",
          "text": [
            "WARNING: Logging before flag parsing goes to stderr.\n",
            "W0727 18:17:07.452833 140247618705280 deprecation_wrapper.py:119] From /usr/local/lib/python3.6/dist-packages/keras/backend/tensorflow_backend.py:74: The name tf.get_default_graph is deprecated. Please use tf.compat.v1.get_default_graph instead.\n",
            "\n",
            "/usr/local/lib/python3.6/dist-packages/ipykernel_launcher.py:6: UserWarning: Update your `Conv2D` call to the Keras 2 API: `Conv2D(32, (3, 3), activation=\"relu\", input_shape=(28, 28, 1...)`\n",
            "  \n",
            "W0727 18:17:07.506783 140247618705280 deprecation_wrapper.py:119] From /usr/local/lib/python3.6/dist-packages/keras/backend/tensorflow_backend.py:517: The name tf.placeholder is deprecated. Please use tf.compat.v1.placeholder instead.\n",
            "\n",
            "W0727 18:17:07.514401 140247618705280 deprecation_wrapper.py:119] From /usr/local/lib/python3.6/dist-packages/keras/backend/tensorflow_backend.py:4138: The name tf.random_uniform is deprecated. Please use tf.random.uniform instead.\n",
            "\n",
            "/usr/local/lib/python3.6/dist-packages/ipykernel_launcher.py:9: UserWarning: Update your `Conv2D` call to the Keras 2 API: `Conv2D(64, (3, 3), activation=\"relu\")`\n",
            "  if __name__ == '__main__':\n",
            "/usr/local/lib/python3.6/dist-packages/ipykernel_launcher.py:12: UserWarning: Update your `Conv2D` call to the Keras 2 API: `Conv2D(128, (3, 3), activation=\"relu\")`\n",
            "  if sys.path[0] == '':\n",
            "W0727 18:17:07.565508 140247618705280 deprecation_wrapper.py:119] From /usr/local/lib/python3.6/dist-packages/keras/backend/tensorflow_backend.py:3976: The name tf.nn.max_pool is deprecated. Please use tf.nn.max_pool2d instead.\n",
            "\n"
          ],
          "name": "stderr"
        },
        {
          "output_type": "stream",
          "text": [
            "_________________________________________________________________\n",
            "Layer (type)                 Output Shape              Param #   \n",
            "=================================================================\n",
            "conv2d_1 (Conv2D)            (None, 26, 26, 32)        320       \n",
            "_________________________________________________________________\n",
            "conv2d_2 (Conv2D)            (None, 24, 24, 64)        18496     \n",
            "_________________________________________________________________\n",
            "conv2d_3 (Conv2D)            (None, 22, 22, 128)       73856     \n",
            "_________________________________________________________________\n",
            "max_pooling2d_1 (MaxPooling2 (None, 11, 11, 128)       0         \n",
            "_________________________________________________________________\n",
            "conv2d_4 (Conv2D)            (None, 9, 9, 256)         295168    \n",
            "_________________________________________________________________\n",
            "conv2d_5 (Conv2D)            (None, 7, 7, 512)         1180160   \n",
            "_________________________________________________________________\n",
            "conv2d_6 (Conv2D)            (None, 5, 5, 1024)        4719616   \n",
            "_________________________________________________________________\n",
            "conv2d_7 (Conv2D)            (None, 3, 3, 2048)        18876416  \n",
            "_________________________________________________________________\n",
            "conv2d_8 (Conv2D)            (None, 1, 1, 10)          184330    \n",
            "_________________________________________________________________\n",
            "flatten_1 (Flatten)          (None, 10)                0         \n",
            "_________________________________________________________________\n",
            "activation_1 (Activation)    (None, 10)                0         \n",
            "=================================================================\n",
            "Total params: 25,348,362\n",
            "Trainable params: 25,348,362\n",
            "Non-trainable params: 0\n",
            "_________________________________________________________________\n"
          ],
          "name": "stdout"
        },
        {
          "output_type": "stream",
          "text": [
            "/usr/local/lib/python3.6/dist-packages/ipykernel_launcher.py:18: UserWarning: Update your `Conv2D` call to the Keras 2 API: `Conv2D(256, (3, 3), activation=\"relu\")`\n",
            "/usr/local/lib/python3.6/dist-packages/ipykernel_launcher.py:21: UserWarning: Update your `Conv2D` call to the Keras 2 API: `Conv2D(512, (3, 3), activation=\"relu\")`\n",
            "/usr/local/lib/python3.6/dist-packages/ipykernel_launcher.py:24: UserWarning: Update your `Conv2D` call to the Keras 2 API: `Conv2D(1024, (3, 3), activation=\"relu\")`\n",
            "/usr/local/lib/python3.6/dist-packages/ipykernel_launcher.py:27: UserWarning: Update your `Conv2D` call to the Keras 2 API: `Conv2D(2048, (3, 3), activation=\"relu\")`\n",
            "/usr/local/lib/python3.6/dist-packages/ipykernel_launcher.py:30: UserWarning: Update your `Conv2D` call to the Keras 2 API: `Conv2D(10, (3, 3), activation=\"relu\")`\n"
          ],
          "name": "stderr"
        }
      ]
    },
    {
      "cell_type": "code",
      "metadata": {
        "id": "VYZOpRb6yG7_",
        "colab_type": "code",
        "colab": {
          "base_uri": "https://localhost:8080/",
          "height": 105
        },
        "outputId": "47587c88-c65c-4714-c9c5-da3adf5e32cd"
      },
      "source": [
        "# compile the model using the following hyper parameters\n",
        "#    a. adam optimizer ( Popular optimizer is SGD) \n",
        "#    b. Loss function as categorical crossentropy\n",
        "#    c. Evaluation method as Accuracy of the prediction\n",
        "model.compile(loss='categorical_crossentropy',\n",
        "             optimizer='adam',\n",
        "             metrics=['accuracy'])"
      ],
      "execution_count": 13,
      "outputs": [
        {
          "output_type": "stream",
          "text": [
            "W0727 18:23:01.276613 140247618705280 deprecation_wrapper.py:119] From /usr/local/lib/python3.6/dist-packages/keras/optimizers.py:790: The name tf.train.Optimizer is deprecated. Please use tf.compat.v1.train.Optimizer instead.\n",
            "\n",
            "W0727 18:23:01.310328 140247618705280 deprecation_wrapper.py:119] From /usr/local/lib/python3.6/dist-packages/keras/backend/tensorflow_backend.py:3295: The name tf.log is deprecated. Please use tf.math.log instead.\n",
            "\n"
          ],
          "name": "stderr"
        }
      ]
    },
    {
      "cell_type": "code",
      "metadata": {
        "id": "5O248wVQyMft",
        "colab_type": "code",
        "colab": {
          "base_uri": "https://localhost:8080/",
          "height": 513
        },
        "outputId": "c18e2858-9a1f-44a1-fb7c-f820f07a485c"
      },
      "source": [
        "# Fit the training data into the model for 10 epochs \n",
        "\n",
        "model.fit(X_train, Y_train, batch_size=32, nb_epoch=10, verbose=1)"
      ],
      "execution_count": 14,
      "outputs": [
        {
          "output_type": "stream",
          "text": [
            "/usr/local/lib/python3.6/dist-packages/ipykernel_launcher.py:2: UserWarning: The `nb_epoch` argument in `fit` has been renamed `epochs`.\n",
            "  \n",
            "W0727 18:23:35.059998 140247618705280 deprecation.py:323] From /usr/local/lib/python3.6/dist-packages/tensorflow/python/ops/math_grad.py:1250: add_dispatch_support.<locals>.wrapper (from tensorflow.python.ops.array_ops) is deprecated and will be removed in a future version.\n",
            "Instructions for updating:\n",
            "Use tf.where in 2.0, which has the same broadcast rule as np.where\n",
            "W0727 18:23:35.144067 140247618705280 deprecation_wrapper.py:119] From /usr/local/lib/python3.6/dist-packages/keras/backend/tensorflow_backend.py:986: The name tf.assign_add is deprecated. Please use tf.compat.v1.assign_add instead.\n",
            "\n"
          ],
          "name": "stderr"
        },
        {
          "output_type": "stream",
          "text": [
            "Epoch 1/10\n",
            "60000/60000 [==============================] - 117s 2ms/step - loss: 1.6094 - acc: 0.4157\n",
            "Epoch 2/10\n",
            "60000/60000 [==============================] - 113s 2ms/step - loss: 1.4407 - acc: 0.4817\n",
            "Epoch 3/10\n",
            "60000/60000 [==============================] - 113s 2ms/step - loss: 1.4290 - acc: 0.4850\n",
            "Epoch 4/10\n",
            "60000/60000 [==============================] - 113s 2ms/step - loss: 1.4286 - acc: 0.4849\n",
            "Epoch 5/10\n",
            "60000/60000 [==============================] - 113s 2ms/step - loss: 1.4261 - acc: 0.4853\n",
            "Epoch 6/10\n",
            "60000/60000 [==============================] - 113s 2ms/step - loss: 1.4197 - acc: 0.4873\n",
            "Epoch 7/10\n",
            "60000/60000 [==============================] - 113s 2ms/step - loss: 1.4174 - acc: 0.4873\n",
            "Epoch 8/10\n",
            "60000/60000 [==============================] - 113s 2ms/step - loss: 1.4251 - acc: 0.4857\n",
            "Epoch 9/10\n",
            "60000/60000 [==============================] - 113s 2ms/step - loss: 1.4192 - acc: 0.4872\n",
            "Epoch 10/10\n",
            "60000/60000 [==============================] - 113s 2ms/step - loss: 1.4278 - acc: 0.4851\n"
          ],
          "name": "stdout"
        },
        {
          "output_type": "execute_result",
          "data": {
            "text/plain": [
              "<keras.callbacks.History at 0x7f8da2ff4c18>"
            ]
          },
          "metadata": {
            "tags": []
          },
          "execution_count": 14
        }
      ]
    },
    {
      "cell_type": "code",
      "metadata": {
        "id": "Sst4KneiyOL5",
        "colab_type": "code",
        "colab": {}
      },
      "source": [
        "# Evaluate the test data using the model trained above and find out the score \n",
        "score = model.evaluate(X_test, Y_test, verbose=0)"
      ],
      "execution_count": 0,
      "outputs": []
    },
    {
      "cell_type": "code",
      "metadata": {
        "id": "CfJiXOKsyj4y",
        "colab_type": "code",
        "colab": {
          "base_uri": "https://localhost:8080/",
          "height": 34
        },
        "outputId": "3a126536-691f-4d3f-d465-30716ef089fb"
      },
      "source": [
        "# print the score of the model evaluation \n",
        "print(score)"
      ],
      "execution_count": 16,
      "outputs": [
        {
          "output_type": "stream",
          "text": [
            "[1.4311341636657715, 0.485]\n"
          ],
          "name": "stdout"
        }
      ]
    },
    {
      "cell_type": "code",
      "metadata": {
        "id": "hwLSXt7nyn_0",
        "colab_type": "code",
        "colab": {}
      },
      "source": [
        "# This line of code will predict the target of the test data using .predict if the model trained above\n",
        "y_pred = model.predict(X_test)"
      ],
      "execution_count": 0,
      "outputs": []
    },
    {
      "cell_type": "code",
      "metadata": {
        "id": "WWKKoOKwyppN",
        "colab_type": "code",
        "colab": {
          "base_uri": "https://localhost:8080/",
          "height": 340
        },
        "outputId": "7a6be1e1-f49d-4692-cd61-d33a97440760"
      },
      "source": [
        "# print the predicted target \n",
        "print(y_pred[:9])\n",
        "# print the actual target\n",
        "print(y_test[:9])\n",
        "# This would help to understand how good/bad the model is in predicting the output . This is a good indication if the model needs to be reworked . \n",
        "# While accuracy depends on the domain and the degree of acceptability , a data scientist should always try to find parameters to increase the true positive prediction "
      ],
      "execution_count": 18,
      "outputs": [
        {
          "output_type": "stream",
          "text": [
            "[[1.0000000e-01 1.0000000e-01 1.0000000e-01 1.0000000e-01 1.0000000e-01\n",
            "  1.0000000e-01 1.0000000e-01 1.0000000e-01 1.0000000e-01 1.0000000e-01]\n",
            " [3.5189401e-22 3.5189401e-22 1.0000000e+00 3.5189401e-22 3.5189401e-22\n",
            "  3.5189401e-22 3.5189401e-22 3.5189401e-22 3.5189401e-22 3.5189401e-22]\n",
            " [1.0000000e-01 1.0000000e-01 1.0000000e-01 1.0000000e-01 1.0000000e-01\n",
            "  1.0000000e-01 1.0000000e-01 1.0000000e-01 1.0000000e-01 1.0000000e-01]\n",
            " [1.0000000e-01 1.0000000e-01 1.0000000e-01 1.0000000e-01 1.0000000e-01\n",
            "  1.0000000e-01 1.0000000e-01 1.0000000e-01 1.0000000e-01 1.0000000e-01]\n",
            " [3.6690793e-25 3.6690793e-25 3.6690793e-25 3.6690793e-25 1.0000000e+00\n",
            "  3.6690793e-25 3.6690793e-25 3.6690793e-25 3.6690793e-25 3.6690793e-25]\n",
            " [1.0000000e-01 1.0000000e-01 1.0000000e-01 1.0000000e-01 1.0000000e-01\n",
            "  1.0000000e-01 1.0000000e-01 1.0000000e-01 1.0000000e-01 1.0000000e-01]\n",
            " [6.8876398e-17 6.8876398e-17 6.8876398e-17 6.8876398e-17 1.0000000e+00\n",
            "  6.8876398e-17 6.8876398e-17 6.8876398e-17 6.8876398e-17 6.8876398e-17]\n",
            " [1.0000000e-01 1.0000000e-01 1.0000000e-01 1.0000000e-01 1.0000000e-01\n",
            "  1.0000000e-01 1.0000000e-01 1.0000000e-01 1.0000000e-01 1.0000000e-01]\n",
            " [1.0000000e-01 1.0000000e-01 1.0000000e-01 1.0000000e-01 1.0000000e-01\n",
            "  1.0000000e-01 1.0000000e-01 1.0000000e-01 1.0000000e-01 1.0000000e-01]]\n",
            "[7 2 1 0 4 1 4 9 5]\n"
          ],
          "name": "stdout"
        }
      ]
    },
    {
      "cell_type": "markdown",
      "metadata": {
        "id": "k0s1Mk4eiHbn",
        "colab_type": "text"
      },
      "source": [
        "**Observation**\n",
        "---------------------\n",
        "\n",
        "1. The Training Time of this Model is very high due to \n",
        "      i) The Number of Kernels increases for each convolution layer \n",
        "      ii) The Total number of parameters increases a  lot for every convolution layer until the receptive     \n",
        "           field becomes the size of the image\n",
        "2. The model seems to over train  as we are trying to find a lot of edges and gradients from images of \n",
        "     28 * 28 size\n",
        "3. The Number of classes are 10 where as we are using a lot of kernels ( 32- 2048 ). That creates a lot of image in the memory and the processor becomes very slow due to excessive use of the memory\n",
        "4. The Accuracy of the model is less as the model over trains itself \n",
        "\n",
        "\n",
        "Below are some modifications done to the above model to try and get a better model with higher accuracy .\n",
        "\n",
        "The Hyper parameters are modified as well(especially the batch size)\n",
        "      \n",
        "\n",
        "---\n",
        "\n",
        "\n",
        "      \n",
        "\n"
      ]
    },
    {
      "cell_type": "code",
      "metadata": {
        "id": "O1QvjjSpEta-",
        "colab_type": "code",
        "colab": {
          "base_uri": "https://localhost:8080/",
          "height": 1000
        },
        "outputId": "13e65537-9e3d-4635-87ae-86976bb9a104"
      },
      "source": [
        "#+++++++++++++++++++++++++++++++++++++++\n",
        "#  In the below code we have used 32 and 16 kernels respectively with a batch size of 64 .\n",
        "\n",
        "from keras.layers import Activation, MaxPooling2D\n",
        "model = Sequential() \n",
        "model.add(Convolution2D(32, 3, 3, activation='relu', input_shape=(28,28,1))) \n",
        "model.add(Convolution2D(32, 3, 3, activation='relu')) \n",
        "model.add(Convolution2D(32, 3, 3, activation='relu')) \n",
        "model.add(MaxPooling2D(pool_size=(2, 2))) \n",
        "model.add(Convolution2D(32, 3, 3, activation='relu'))\n",
        "model.add(Convolution2D(32, 3, 3, activation='relu'))\n",
        "model.add(Convolution2D(16, 3, 3, activation='relu'))\n",
        "model.add(Convolution2D(16, 3, 3, activation='relu'))\n",
        "model.add(Convolution2D(10, 3, 3, activation='relu'))\n",
        "model.add(Flatten())\n",
        "model.add(Activation('softmax'))\n",
        "model.summary()\n",
        "model.compile(loss='categorical_crossentropy',\n",
        "             optimizer='adam',\n",
        "             metrics=['accuracy'])\n",
        "\n",
        "model.fit(X_train, Y_train, batch_size=64, nb_epoch=10, verbose=1)\n",
        "score = model.evaluate(X_test, Y_test, verbose=0)\n",
        "print(score)\n",
        "y_pred = model.predict(X_test)\n",
        "print(y_pred[:9])\n",
        "print(y_test[:9])\n",
        "\n"
      ],
      "execution_count": 43,
      "outputs": [
        {
          "output_type": "stream",
          "text": [
            "/usr/local/lib/python3.6/dist-packages/ipykernel_launcher.py:6: UserWarning: Update your `Conv2D` call to the Keras 2 API: `Conv2D(32, (3, 3), activation=\"relu\", input_shape=(28, 28, 1...)`\n",
            "  \n",
            "/usr/local/lib/python3.6/dist-packages/ipykernel_launcher.py:9: UserWarning: Update your `Conv2D` call to the Keras 2 API: `Conv2D(32, (3, 3), activation=\"relu\")`\n",
            "  if __name__ == '__main__':\n",
            "/usr/local/lib/python3.6/dist-packages/ipykernel_launcher.py:12: UserWarning: Update your `Conv2D` call to the Keras 2 API: `Conv2D(32, (3, 3), activation=\"relu\")`\n",
            "  if sys.path[0] == '':\n",
            "/usr/local/lib/python3.6/dist-packages/ipykernel_launcher.py:18: UserWarning: Update your `Conv2D` call to the Keras 2 API: `Conv2D(32, (3, 3), activation=\"relu\")`\n",
            "/usr/local/lib/python3.6/dist-packages/ipykernel_launcher.py:21: UserWarning: Update your `Conv2D` call to the Keras 2 API: `Conv2D(32, (3, 3), activation=\"relu\")`\n",
            "/usr/local/lib/python3.6/dist-packages/ipykernel_launcher.py:24: UserWarning: Update your `Conv2D` call to the Keras 2 API: `Conv2D(16, (3, 3), activation=\"relu\")`\n",
            "/usr/local/lib/python3.6/dist-packages/ipykernel_launcher.py:27: UserWarning: Update your `Conv2D` call to the Keras 2 API: `Conv2D(16, (3, 3), activation=\"relu\")`\n",
            "/usr/local/lib/python3.6/dist-packages/ipykernel_launcher.py:30: UserWarning: Update your `Conv2D` call to the Keras 2 API: `Conv2D(10, (3, 3), activation=\"relu\")`\n",
            "/usr/local/lib/python3.6/dist-packages/ipykernel_launcher.py:45: UserWarning: The `nb_epoch` argument in `fit` has been renamed `epochs`.\n"
          ],
          "name": "stderr"
        },
        {
          "output_type": "stream",
          "text": [
            "_________________________________________________________________\n",
            "Layer (type)                 Output Shape              Param #   \n",
            "=================================================================\n",
            "conv2d_140 (Conv2D)          (None, 26, 26, 32)        320       \n",
            "_________________________________________________________________\n",
            "conv2d_141 (Conv2D)          (None, 24, 24, 32)        9248      \n",
            "_________________________________________________________________\n",
            "conv2d_142 (Conv2D)          (None, 22, 22, 32)        9248      \n",
            "_________________________________________________________________\n",
            "max_pooling2d_27 (MaxPooling (None, 11, 11, 32)        0         \n",
            "_________________________________________________________________\n",
            "conv2d_143 (Conv2D)          (None, 9, 9, 32)          9248      \n",
            "_________________________________________________________________\n",
            "conv2d_144 (Conv2D)          (None, 7, 7, 32)          9248      \n",
            "_________________________________________________________________\n",
            "conv2d_145 (Conv2D)          (None, 5, 5, 16)          4624      \n",
            "_________________________________________________________________\n",
            "conv2d_146 (Conv2D)          (None, 3, 3, 16)          2320      \n",
            "_________________________________________________________________\n",
            "conv2d_147 (Conv2D)          (None, 1, 1, 10)          1450      \n",
            "_________________________________________________________________\n",
            "flatten_29 (Flatten)         (None, 10)                0         \n",
            "_________________________________________________________________\n",
            "activation_16 (Activation)   (None, 10)                0         \n",
            "=================================================================\n",
            "Total params: 45,706\n",
            "Trainable params: 45,706\n",
            "Non-trainable params: 0\n",
            "_________________________________________________________________\n",
            "Epoch 1/10\n",
            "60000/60000 [==============================] - 9s 145us/step - loss: 0.4757 - acc: 0.8397\n",
            "Epoch 2/10\n",
            "60000/60000 [==============================] - 7s 114us/step - loss: 0.2883 - acc: 0.8886\n",
            "Epoch 3/10\n",
            "60000/60000 [==============================] - 7s 115us/step - loss: 0.2622 - acc: 0.8956\n",
            "Epoch 4/10\n",
            "60000/60000 [==============================] - 7s 115us/step - loss: 0.2552 - acc: 0.8975\n",
            "Epoch 5/10\n",
            "60000/60000 [==============================] - 7s 115us/step - loss: 0.2484 - acc: 0.8989\n",
            "Epoch 6/10\n",
            "60000/60000 [==============================] - 7s 115us/step - loss: 0.2436 - acc: 0.9000\n",
            "Epoch 7/10\n",
            "60000/60000 [==============================] - 7s 114us/step - loss: 0.2396 - acc: 0.9011\n",
            "Epoch 8/10\n",
            "60000/60000 [==============================] - 7s 115us/step - loss: 0.2366 - acc: 0.9018\n",
            "Epoch 9/10\n",
            "60000/60000 [==============================] - 7s 115us/step - loss: 0.2339 - acc: 0.9026\n",
            "Epoch 10/10\n",
            "60000/60000 [==============================] - 7s 114us/step - loss: 0.2320 - acc: 0.9030\n",
            "[0.23354923572409897, 0.9035]\n",
            "[[8.0432829e-07 8.0432829e-07 1.1965396e-06 8.0432829e-07 8.0432829e-07\n",
            "  8.0432829e-07 8.0432829e-07 9.9999249e-01 8.0432829e-07 8.0432829e-07]\n",
            " [1.0024137e-06 8.6534810e-06 9.9998772e-01 1.6885511e-07 1.6885511e-07\n",
            "  1.6885511e-07 1.6885511e-07 1.6885511e-07 1.6698350e-06 1.6885511e-07]\n",
            " [3.0614479e-05 9.9869317e-01 3.0614479e-05 3.0614479e-05 1.0057454e-03\n",
            "  3.0614479e-05 3.0614479e-05 8.6932523e-05 3.0614479e-05 3.0614479e-05]\n",
            " [9.9984014e-01 1.7766301e-05 1.7766301e-05 1.7766301e-05 1.7766301e-05\n",
            "  1.7766301e-05 1.7766301e-05 1.7766301e-05 1.7766301e-05 1.7766301e-05]\n",
            " [1.8777481e-06 1.8777481e-06 1.8777481e-06 1.8777481e-06 9.9988735e-01\n",
            "  1.8777481e-06 1.8777481e-06 1.8777481e-06 9.6596777e-06 8.9751971e-05]\n",
            " [1.0250900e-05 9.9950314e-01 1.0250900e-05 1.0250900e-05 3.8657564e-04\n",
            "  1.0250900e-05 1.0250900e-05 3.8528982e-05 1.0250900e-05 1.0250900e-05]\n",
            " [2.7493756e-05 2.7493756e-05 2.7493756e-05 2.7493756e-05 9.9951088e-01\n",
            "  2.7493756e-05 2.7493756e-05 2.7493756e-05 2.7493756e-05 2.6918959e-04]\n",
            " [1.1004404e-07 1.1004404e-07 1.1004404e-07 1.1004404e-07 2.2666965e-04\n",
            "  1.1004404e-07 1.1004404e-07 1.1004404e-07 3.8141750e-06 9.9976879e-01]\n",
            " [1.0000000e-01 1.0000000e-01 1.0000000e-01 1.0000000e-01 1.0000000e-01\n",
            "  1.0000000e-01 1.0000000e-01 1.0000000e-01 1.0000000e-01 1.0000000e-01]]\n",
            "[7 2 1 0 4 1 4 9 5]\n"
          ],
          "name": "stdout"
        }
      ]
    },
    {
      "cell_type": "code",
      "metadata": {
        "id": "KM1xUL90d2Du",
        "colab_type": "code",
        "colab": {
          "base_uri": "https://localhost:8080/",
          "height": 1000
        },
        "outputId": "5f07db9b-5631-4fec-e61e-3493e87fe98e"
      },
      "source": [
        "#+++++++++++++++++++++++++++++++++++++++\n",
        "\n",
        "#  In the below code we have used 32 and 16 kernels respectively with a batch size of 64 .\n",
        "\n",
        "\n",
        "from keras.layers import Activation, MaxPooling2D\n",
        "\n",
        "model = Sequential() \n",
        "model.add(Convolution2D(32, 3, 3, activation='relu', input_shape=(28,28,1))) \n",
        "model.add(Convolution2D(32, 3, 3, activation='relu'))\n",
        "model.add(Convolution2D(32, 3, 3, activation='relu')) \n",
        "model.add(MaxPooling2D(pool_size=(2, 2))) \n",
        "model.add(Convolution2D(32, 3, 3, activation='relu')) \n",
        "model.add(Convolution2D(16, 3, 3, activation='relu')) \n",
        "model.add(Convolution2D(16, 3, 3, activation='relu')) \n",
        "model.add(Convolution2D(16, 3, 3, activation='relu'))\n",
        "model.add(Convolution2D(10, 3, 3, activation='relu')) \n",
        "model.add(Flatten())\n",
        "model.add(Activation('softmax'))\n",
        "model.summary()\n",
        "model.compile(loss='categorical_crossentropy',\n",
        "             optimizer='adam',\n",
        "             metrics=['accuracy'])\n",
        "\n",
        "model.fit(X_train, Y_train, batch_size=64, nb_epoch=10, verbose=1)\n",
        "score = model.evaluate(X_test, Y_test, verbose=0)\n",
        "print(score)\n",
        "y_pred = model.predict(X_test)\n",
        "print(y_pred[:9])\n",
        "print(y_test[:9])\n"
      ],
      "execution_count": 46,
      "outputs": [
        {
          "output_type": "stream",
          "text": [
            "/usr/local/lib/python3.6/dist-packages/ipykernel_launcher.py:6: UserWarning: Update your `Conv2D` call to the Keras 2 API: `Conv2D(32, (3, 3), activation=\"relu\", input_shape=(28, 28, 1...)`\n",
            "  \n",
            "/usr/local/lib/python3.6/dist-packages/ipykernel_launcher.py:9: UserWarning: Update your `Conv2D` call to the Keras 2 API: `Conv2D(32, (3, 3), activation=\"relu\")`\n",
            "  if __name__ == '__main__':\n",
            "/usr/local/lib/python3.6/dist-packages/ipykernel_launcher.py:12: UserWarning: Update your `Conv2D` call to the Keras 2 API: `Conv2D(32, (3, 3), activation=\"relu\")`\n",
            "  if sys.path[0] == '':\n",
            "/usr/local/lib/python3.6/dist-packages/ipykernel_launcher.py:18: UserWarning: Update your `Conv2D` call to the Keras 2 API: `Conv2D(32, (3, 3), activation=\"relu\")`\n",
            "/usr/local/lib/python3.6/dist-packages/ipykernel_launcher.py:21: UserWarning: Update your `Conv2D` call to the Keras 2 API: `Conv2D(16, (3, 3), activation=\"relu\")`\n",
            "/usr/local/lib/python3.6/dist-packages/ipykernel_launcher.py:24: UserWarning: Update your `Conv2D` call to the Keras 2 API: `Conv2D(16, (3, 3), activation=\"relu\")`\n",
            "/usr/local/lib/python3.6/dist-packages/ipykernel_launcher.py:27: UserWarning: Update your `Conv2D` call to the Keras 2 API: `Conv2D(16, (3, 3), activation=\"relu\")`\n",
            "/usr/local/lib/python3.6/dist-packages/ipykernel_launcher.py:30: UserWarning: Update your `Conv2D` call to the Keras 2 API: `Conv2D(10, (3, 3), activation=\"relu\")`\n",
            "/usr/local/lib/python3.6/dist-packages/ipykernel_launcher.py:45: UserWarning: The `nb_epoch` argument in `fit` has been renamed `epochs`.\n"
          ],
          "name": "stderr"
        },
        {
          "output_type": "stream",
          "text": [
            "_________________________________________________________________\n",
            "Layer (type)                 Output Shape              Param #   \n",
            "=================================================================\n",
            "conv2d_164 (Conv2D)          (None, 26, 26, 32)        320       \n",
            "_________________________________________________________________\n",
            "conv2d_165 (Conv2D)          (None, 24, 24, 32)        9248      \n",
            "_________________________________________________________________\n",
            "conv2d_166 (Conv2D)          (None, 22, 22, 32)        9248      \n",
            "_________________________________________________________________\n",
            "max_pooling2d_30 (MaxPooling (None, 11, 11, 32)        0         \n",
            "_________________________________________________________________\n",
            "conv2d_167 (Conv2D)          (None, 9, 9, 32)          9248      \n",
            "_________________________________________________________________\n",
            "conv2d_168 (Conv2D)          (None, 7, 7, 16)          4624      \n",
            "_________________________________________________________________\n",
            "conv2d_169 (Conv2D)          (None, 5, 5, 16)          2320      \n",
            "_________________________________________________________________\n",
            "conv2d_170 (Conv2D)          (None, 3, 3, 16)          2320      \n",
            "_________________________________________________________________\n",
            "conv2d_171 (Conv2D)          (None, 1, 1, 10)          1450      \n",
            "_________________________________________________________________\n",
            "flatten_32 (Flatten)         (None, 10)                0         \n",
            "_________________________________________________________________\n",
            "activation_19 (Activation)   (None, 10)                0         \n",
            "=================================================================\n",
            "Total params: 38,778\n",
            "Trainable params: 38,778\n",
            "Non-trainable params: 0\n",
            "_________________________________________________________________\n",
            "Epoch 1/10\n",
            "60000/60000 [==============================] - 9s 154us/step - loss: 0.7013 - acc: 0.7489\n",
            "Epoch 2/10\n",
            "60000/60000 [==============================] - 7s 117us/step - loss: 0.5119 - acc: 0.7953\n",
            "Epoch 3/10\n",
            "60000/60000 [==============================] - 7s 117us/step - loss: 0.4899 - acc: 0.7996\n",
            "Epoch 4/10\n",
            "60000/60000 [==============================] - 7s 116us/step - loss: 0.4808 - acc: 0.8013\n",
            "Epoch 5/10\n",
            "60000/60000 [==============================] - 7s 117us/step - loss: 0.4751 - acc: 0.8019\n",
            "Epoch 6/10\n",
            "60000/60000 [==============================] - 7s 117us/step - loss: 0.2783 - acc: 0.8874\n",
            "Epoch 7/10\n",
            "60000/60000 [==============================] - 7s 117us/step - loss: 0.2623 - acc: 0.8925\n",
            "Epoch 8/10\n",
            "60000/60000 [==============================] - 7s 117us/step - loss: 0.2566 - acc: 0.8943\n",
            "Epoch 9/10\n",
            "60000/60000 [==============================] - 7s 120us/step - loss: 0.2542 - acc: 0.8946\n",
            "Epoch 10/10\n",
            "60000/60000 [==============================] - 7s 121us/step - loss: 0.2523 - acc: 0.8946\n",
            "[0.26282553653884677, 0.8918]\n",
            "[[8.9292753e-06 8.9292753e-06 8.9292753e-06 8.9292753e-06 8.9292753e-06\n",
            "  8.9292753e-06 8.9292753e-06 9.9991953e-01 8.9292753e-06 8.9292753e-06]\n",
            " [2.5888600e-11 1.3640748e-07 9.9999988e-01 7.9086902e-12 7.9086902e-12\n",
            "  5.5409385e-11 1.7534728e-10 7.9086902e-12 7.9086902e-12 7.9086902e-12]\n",
            " [1.7727260e-07 9.9995697e-01 1.7727260e-07 1.7727260e-07 1.7727260e-07\n",
            "  3.5988112e-05 1.1438492e-06 4.8921079e-06 1.7727260e-07 1.7727260e-07]\n",
            " [9.9996781e-01 2.9230653e-06 2.9230653e-06 2.9230653e-06 2.9230653e-06\n",
            "  2.9230653e-06 8.7398121e-06 2.9230653e-06 2.9230653e-06 2.9230653e-06]\n",
            " [4.9928931e-06 4.9928931e-06 4.9928931e-06 4.9928931e-06 9.9995494e-01\n",
            "  4.9928931e-06 4.9928931e-06 4.9928931e-06 4.9928931e-06 4.9928931e-06]\n",
            " [9.8488941e-09 9.9999690e-01 1.3365160e-08 9.8488941e-09 9.8488941e-09\n",
            "  2.1934304e-06 7.4391480e-08 8.5705312e-07 9.8488941e-09 9.8488941e-09]\n",
            " [4.2569071e-05 7.3358162e-05 4.2569071e-05 4.2569071e-05 9.9954236e-01\n",
            "  4.2569071e-05 4.2569071e-05 4.2569071e-05 8.6389970e-05 4.2569071e-05]\n",
            " [1.0000000e-01 1.0000000e-01 1.0000000e-01 1.0000000e-01 1.0000000e-01\n",
            "  1.0000000e-01 1.0000000e-01 1.0000000e-01 1.0000000e-01 1.0000000e-01]\n",
            " [1.7300356e-07 1.7300356e-07 1.7300356e-07 1.7300356e-07 1.7300356e-07\n",
            "  8.2086034e-02 9.1791260e-01 1.7300356e-07 1.7300356e-07 1.7300356e-07]]\n",
            "[7 2 1 0 4 1 4 9 5]\n"
          ],
          "name": "stdout"
        }
      ]
    },
    {
      "cell_type": "code",
      "metadata": {
        "id": "jjzASsFwXr3t",
        "colab_type": "code",
        "colab": {
          "base_uri": "https://localhost:8080/",
          "height": 1000
        },
        "outputId": "e0031bf5-414d-49b2-9694-fb5dc69b2002"
      },
      "source": [
        "#+++++++++++++++++++++++++++++++++++++++\n",
        "#  The Accuracy seems to be down when using a batch size of 128\n",
        "\n",
        "from keras.layers import Activation, MaxPooling2D\n",
        "model = Sequential() \n",
        "model.add(Convolution2D(32, 3, 3, activation='relu', input_shape=(28,28,1))) \n",
        "model.add(Convolution2D(32, 3, 3, activation='relu')) \n",
        "model.add(Convolution2D(32, 3, 3, activation='relu')) \n",
        "model.add(MaxPooling2D(pool_size=(2, 2)))\n",
        "model.add(Convolution2D(32, 3, 3, activation='relu')) \n",
        "model.add(Convolution2D(32, 3, 3, activation='relu')) \n",
        "model.add(Convolution2D(16, 3, 3, activation='relu')) \n",
        "model.add(Convolution2D(16, 3, 3, activation='relu'))\n",
        "model.add(Convolution2D(10, 3, 3, activation='relu')) \n",
        "model.add(Flatten())\n",
        "model.add(Activation('softmax'))\n",
        "model.summary()\n",
        "\n",
        "model.compile(loss='categorical_crossentropy',\n",
        "             optimizer='adam',\n",
        "             metrics=['accuracy'])\n",
        "\n",
        "model.fit(X_train, Y_train, batch_size=128, nb_epoch=10, verbose=1)\n",
        "score = model.evaluate(X_test, Y_test, verbose=0)\n",
        "print(score)\n",
        "y_pred = model.predict(X_test)\n",
        "print(y_pred[:9])\n",
        "print(y_test[:9])\n"
      ],
      "execution_count": 47,
      "outputs": [
        {
          "output_type": "stream",
          "text": [
            "/usr/local/lib/python3.6/dist-packages/ipykernel_launcher.py:6: UserWarning: Update your `Conv2D` call to the Keras 2 API: `Conv2D(32, (3, 3), activation=\"relu\", input_shape=(28, 28, 1...)`\n",
            "  \n",
            "/usr/local/lib/python3.6/dist-packages/ipykernel_launcher.py:9: UserWarning: Update your `Conv2D` call to the Keras 2 API: `Conv2D(32, (3, 3), activation=\"relu\")`\n",
            "  if __name__ == '__main__':\n",
            "/usr/local/lib/python3.6/dist-packages/ipykernel_launcher.py:12: UserWarning: Update your `Conv2D` call to the Keras 2 API: `Conv2D(32, (3, 3), activation=\"relu\")`\n",
            "  if sys.path[0] == '':\n",
            "/usr/local/lib/python3.6/dist-packages/ipykernel_launcher.py:18: UserWarning: Update your `Conv2D` call to the Keras 2 API: `Conv2D(32, (3, 3), activation=\"relu\")`\n",
            "/usr/local/lib/python3.6/dist-packages/ipykernel_launcher.py:21: UserWarning: Update your `Conv2D` call to the Keras 2 API: `Conv2D(32, (3, 3), activation=\"relu\")`\n",
            "/usr/local/lib/python3.6/dist-packages/ipykernel_launcher.py:24: UserWarning: Update your `Conv2D` call to the Keras 2 API: `Conv2D(16, (3, 3), activation=\"relu\")`\n",
            "/usr/local/lib/python3.6/dist-packages/ipykernel_launcher.py:27: UserWarning: Update your `Conv2D` call to the Keras 2 API: `Conv2D(16, (3, 3), activation=\"relu\")`\n",
            "/usr/local/lib/python3.6/dist-packages/ipykernel_launcher.py:30: UserWarning: Update your `Conv2D` call to the Keras 2 API: `Conv2D(10, (3, 3), activation=\"relu\")`\n",
            "/usr/local/lib/python3.6/dist-packages/ipykernel_launcher.py:45: UserWarning: The `nb_epoch` argument in `fit` has been renamed `epochs`.\n"
          ],
          "name": "stderr"
        },
        {
          "output_type": "stream",
          "text": [
            "_________________________________________________________________\n",
            "Layer (type)                 Output Shape              Param #   \n",
            "=================================================================\n",
            "conv2d_172 (Conv2D)          (None, 26, 26, 32)        320       \n",
            "_________________________________________________________________\n",
            "conv2d_173 (Conv2D)          (None, 24, 24, 32)        9248      \n",
            "_________________________________________________________________\n",
            "conv2d_174 (Conv2D)          (None, 22, 22, 32)        9248      \n",
            "_________________________________________________________________\n",
            "max_pooling2d_31 (MaxPooling (None, 11, 11, 32)        0         \n",
            "_________________________________________________________________\n",
            "conv2d_175 (Conv2D)          (None, 9, 9, 32)          9248      \n",
            "_________________________________________________________________\n",
            "conv2d_176 (Conv2D)          (None, 7, 7, 32)          9248      \n",
            "_________________________________________________________________\n",
            "conv2d_177 (Conv2D)          (None, 5, 5, 16)          4624      \n",
            "_________________________________________________________________\n",
            "conv2d_178 (Conv2D)          (None, 3, 3, 16)          2320      \n",
            "_________________________________________________________________\n",
            "conv2d_179 (Conv2D)          (None, 1, 1, 10)          1450      \n",
            "_________________________________________________________________\n",
            "flatten_33 (Flatten)         (None, 10)                0         \n",
            "_________________________________________________________________\n",
            "activation_20 (Activation)   (None, 10)                0         \n",
            "=================================================================\n",
            "Total params: 45,706\n",
            "Trainable params: 45,706\n",
            "Non-trainable params: 0\n",
            "_________________________________________________________________\n",
            "Epoch 1/10\n",
            "60000/60000 [==============================] - 7s 118us/step - loss: 1.1545 - acc: 0.5597\n",
            "Epoch 2/10\n",
            "60000/60000 [==============================] - 4s 74us/step - loss: 0.9738 - acc: 0.5967\n",
            "Epoch 3/10\n",
            "60000/60000 [==============================] - 4s 73us/step - loss: 0.9499 - acc: 0.6004\n",
            "Epoch 4/10\n",
            "60000/60000 [==============================] - 4s 74us/step - loss: 0.9391 - acc: 0.6022\n",
            "Epoch 5/10\n",
            "60000/60000 [==============================] - 4s 73us/step - loss: 0.9319 - acc: 0.6036\n",
            "Epoch 6/10\n",
            "60000/60000 [==============================] - 4s 73us/step - loss: 0.9287 - acc: 0.6043\n",
            "Epoch 7/10\n",
            "60000/60000 [==============================] - 4s 73us/step - loss: 0.9255 - acc: 0.6050\n",
            "Epoch 8/10\n",
            "60000/60000 [==============================] - 4s 73us/step - loss: 0.9228 - acc: 0.6054\n",
            "Epoch 9/10\n",
            "60000/60000 [==============================] - 4s 73us/step - loss: 0.8217 - acc: 0.6513\n",
            "Epoch 10/10\n",
            "60000/60000 [==============================] - 4s 73us/step - loss: 0.4865 - acc: 0.7960\n",
            "[0.47842112064361575, 0.7987]\n",
            "[[9.4256247e-06 9.4256247e-06 9.4256247e-06 9.4256247e-06 9.4256247e-06\n",
            "  9.4256247e-06 9.4256247e-06 9.9991524e-01 9.4256247e-06 9.4256247e-06]\n",
            " [4.9127544e-07 1.4900769e-06 9.9999464e-01 4.9127544e-07 4.9127544e-07\n",
            "  4.9127544e-07 4.9127544e-07 4.9127544e-07 4.9127544e-07 4.9127544e-07]\n",
            " [2.4470086e-05 9.9977976e-01 2.4470086e-05 2.4470086e-05 2.4470086e-05\n",
            "  2.4470086e-05 2.4470086e-05 2.4470086e-05 2.4470086e-05 2.4470086e-05]\n",
            " [9.9999940e-01 4.6384532e-08 4.6384532e-08 4.6384532e-08 4.6384532e-08\n",
            "  4.6384532e-08 4.6384532e-08 4.6384532e-08 4.6384532e-08 1.6401893e-07]\n",
            " [1.0000000e-01 1.0000000e-01 1.0000000e-01 1.0000000e-01 1.0000000e-01\n",
            "  1.0000000e-01 1.0000000e-01 1.0000000e-01 1.0000000e-01 1.0000000e-01]\n",
            " [2.2453348e-06 9.9997973e-01 2.2453348e-06 2.2453348e-06 2.2453348e-06\n",
            "  2.2453348e-06 2.2453348e-06 2.2453348e-06 2.2453348e-06 2.2453348e-06]\n",
            " [1.0000000e-01 1.0000000e-01 1.0000000e-01 1.0000000e-01 1.0000000e-01\n",
            "  1.0000000e-01 1.0000000e-01 1.0000000e-01 1.0000000e-01 1.0000000e-01]\n",
            " [2.0408859e-07 2.0408859e-07 2.0408859e-07 2.0408859e-07 2.0408859e-07\n",
            "  2.0408859e-07 2.0408859e-07 2.0408859e-07 2.0408859e-07 9.9999809e-01]\n",
            " [4.5438919e-02 4.5438919e-02 4.5438919e-02 4.5438919e-02 4.5438919e-02\n",
            "  5.9104979e-01 4.5438919e-02 4.5438919e-02 4.5438919e-02 4.5438919e-02]]\n",
            "[7 2 1 0 4 1 4 9 5]\n"
          ],
          "name": "stdout"
        }
      ]
    },
    {
      "cell_type": "code",
      "metadata": {
        "id": "lQsP0pUWfgY8",
        "colab_type": "code",
        "colab": {
          "base_uri": "https://localhost:8080/",
          "height": 1000
        },
        "outputId": "3b04ceac-b978-468a-aeba-1319996c97ea"
      },
      "source": [
        "#+++++++++++++++++++++++++++++++++++++++\n",
        "#  The Accuracy with Batch size of 32 is also not better than batch size of 64\n",
        "\n",
        "from keras.layers import Activation, MaxPooling2D\n",
        "\n",
        "model = Sequential() \n",
        "model.add(Convolution2D(32, 3, 3, activation='relu', input_shape=(28,28,1))) \n",
        "model.add(Convolution2D(32, 3, 3, activation='relu')) \n",
        "model.add(Convolution2D(32, 3, 3, activation='relu')) \n",
        "model.add(MaxPooling2D(pool_size=(2, 2))) \n",
        "model.add(Convolution2D(32, 3, 3, activation='relu')) \n",
        "model.add(Convolution2D(32, 3, 3, activation='relu')) \n",
        "model.add(Convolution2D(16, 3, 3, activation='relu')) \n",
        "model.add(Convolution2D(16, 3, 3, activation='relu'))\n",
        "model.add(Convolution2D(10, 3, 3, activation='relu'))\n",
        "model.add(Activation('softmax'))\n",
        "model.summary()\n",
        "\n",
        "\n",
        "model.compile(loss='categorical_crossentropy',\n",
        "             optimizer='adam',\n",
        "             metrics=['accuracy'])\n",
        "\n",
        "model.fit(X_train, Y_train, batch_size=32, nb_epoch=10, verbose=1)\n",
        "score = model.evaluate(X_test, Y_test, verbose=0)\n",
        "print(score)\n",
        "y_pred = model.predict(X_test)\n",
        "print(y_pred[:9])\n",
        "print(y_test[:9])\n"
      ],
      "execution_count": 49,
      "outputs": [
        {
          "output_type": "stream",
          "text": [
            "/usr/local/lib/python3.6/dist-packages/ipykernel_launcher.py:6: UserWarning: Update your `Conv2D` call to the Keras 2 API: `Conv2D(32, (3, 3), activation=\"relu\", input_shape=(28, 28, 1...)`\n",
            "  \n",
            "/usr/local/lib/python3.6/dist-packages/ipykernel_launcher.py:9: UserWarning: Update your `Conv2D` call to the Keras 2 API: `Conv2D(32, (3, 3), activation=\"relu\")`\n",
            "  if __name__ == '__main__':\n",
            "/usr/local/lib/python3.6/dist-packages/ipykernel_launcher.py:12: UserWarning: Update your `Conv2D` call to the Keras 2 API: `Conv2D(32, (3, 3), activation=\"relu\")`\n",
            "  if sys.path[0] == '':\n",
            "/usr/local/lib/python3.6/dist-packages/ipykernel_launcher.py:18: UserWarning: Update your `Conv2D` call to the Keras 2 API: `Conv2D(32, (3, 3), activation=\"relu\")`\n",
            "/usr/local/lib/python3.6/dist-packages/ipykernel_launcher.py:21: UserWarning: Update your `Conv2D` call to the Keras 2 API: `Conv2D(32, (3, 3), activation=\"relu\")`\n",
            "/usr/local/lib/python3.6/dist-packages/ipykernel_launcher.py:24: UserWarning: Update your `Conv2D` call to the Keras 2 API: `Conv2D(16, (3, 3), activation=\"relu\")`\n",
            "/usr/local/lib/python3.6/dist-packages/ipykernel_launcher.py:27: UserWarning: Update your `Conv2D` call to the Keras 2 API: `Conv2D(16, (3, 3), activation=\"relu\")`\n",
            "/usr/local/lib/python3.6/dist-packages/ipykernel_launcher.py:30: UserWarning: Update your `Conv2D` call to the Keras 2 API: `Conv2D(10, (3, 3), activation=\"relu\")`\n",
            "/usr/local/lib/python3.6/dist-packages/ipykernel_launcher.py:45: UserWarning: The `nb_epoch` argument in `fit` has been renamed `epochs`.\n"
          ],
          "name": "stderr"
        },
        {
          "output_type": "stream",
          "text": [
            "_________________________________________________________________\n",
            "Layer (type)                 Output Shape              Param #   \n",
            "=================================================================\n",
            "conv2d_188 (Conv2D)          (None, 26, 26, 32)        320       \n",
            "_________________________________________________________________\n",
            "conv2d_189 (Conv2D)          (None, 24, 24, 32)        9248      \n",
            "_________________________________________________________________\n",
            "conv2d_190 (Conv2D)          (None, 22, 22, 32)        9248      \n",
            "_________________________________________________________________\n",
            "max_pooling2d_33 (MaxPooling (None, 11, 11, 32)        0         \n",
            "_________________________________________________________________\n",
            "conv2d_191 (Conv2D)          (None, 9, 9, 32)          9248      \n",
            "_________________________________________________________________\n",
            "conv2d_192 (Conv2D)          (None, 7, 7, 32)          9248      \n",
            "_________________________________________________________________\n",
            "conv2d_193 (Conv2D)          (None, 5, 5, 16)          4624      \n",
            "_________________________________________________________________\n",
            "conv2d_194 (Conv2D)          (None, 3, 3, 16)          2320      \n",
            "_________________________________________________________________\n",
            "conv2d_195 (Conv2D)          (None, 1, 1, 10)          1450      \n",
            "_________________________________________________________________\n",
            "flatten_35 (Flatten)         (None, 10)                0         \n",
            "_________________________________________________________________\n",
            "activation_22 (Activation)   (None, 10)                0         \n",
            "=================================================================\n",
            "Total params: 45,706\n",
            "Trainable params: 45,706\n",
            "Non-trainable params: 0\n",
            "_________________________________________________________________\n",
            "Epoch 1/10\n",
            "60000/60000 [==============================] - 16s 268us/step - loss: 1.0530 - acc: 0.5765\n",
            "Epoch 2/10\n",
            "60000/60000 [==============================] - 13s 218us/step - loss: 0.9668 - acc: 0.5932\n",
            "Epoch 3/10\n",
            "60000/60000 [==============================] - 13s 219us/step - loss: 0.9530 - acc: 0.5953\n",
            "Epoch 4/10\n",
            "60000/60000 [==============================] - 13s 218us/step - loss: 0.9467 - acc: 0.5965\n",
            "Epoch 5/10\n",
            "60000/60000 [==============================] - 14s 228us/step - loss: 0.9420 - acc: 0.5972\n",
            "Epoch 6/10\n",
            "60000/60000 [==============================] - 13s 219us/step - loss: 0.9401 - acc: 0.5973\n",
            "Epoch 7/10\n",
            "60000/60000 [==============================] - 13s 219us/step - loss: 0.9359 - acc: 0.5980\n",
            "Epoch 8/10\n",
            "60000/60000 [==============================] - 13s 218us/step - loss: 0.9347 - acc: 0.5982\n",
            "Epoch 9/10\n",
            "60000/60000 [==============================] - 13s 217us/step - loss: 0.9322 - acc: 0.5986\n",
            "Epoch 10/10\n",
            "60000/60000 [==============================] - 13s 217us/step - loss: 0.9344 - acc: 0.5981\n",
            "[0.9390110841751098, 0.5968]\n",
            "[[1.0000000e-01 1.0000000e-01 1.0000000e-01 1.0000000e-01 1.0000000e-01\n",
            "  1.0000000e-01 1.0000000e-01 1.0000000e-01 1.0000000e-01 1.0000000e-01]\n",
            " [4.2675202e-07 4.2675202e-07 9.9999619e-01 4.2675202e-07 4.2675202e-07\n",
            "  4.2675202e-07 4.2675202e-07 4.2675202e-07 4.2675202e-07 4.2675202e-07]\n",
            " [5.5748455e-07 9.9999499e-01 5.5748455e-07 5.5748455e-07 5.5748455e-07\n",
            "  5.5748455e-07 5.7965127e-07 5.5748455e-07 5.5748455e-07 5.5748455e-07]\n",
            " [9.9992228e-01 3.2595228e-06 3.2595228e-06 3.2595228e-06 3.2595228e-06\n",
            "  3.2595228e-06 5.1569994e-05 3.2595228e-06 3.2595228e-06 3.2595228e-06]\n",
            " [1.0000000e-01 1.0000000e-01 1.0000000e-01 1.0000000e-01 1.0000000e-01\n",
            "  1.0000000e-01 1.0000000e-01 1.0000000e-01 1.0000000e-01 1.0000000e-01]\n",
            " [2.2773062e-07 9.9999785e-01 2.2773062e-07 2.2773062e-07 2.2773062e-07\n",
            "  2.2773062e-07 2.2773062e-07 2.2773062e-07 2.2773062e-07 2.2773062e-07]\n",
            " [1.0000000e-01 1.0000000e-01 1.0000000e-01 1.0000000e-01 1.0000000e-01\n",
            "  1.0000000e-01 1.0000000e-01 1.0000000e-01 1.0000000e-01 1.0000000e-01]\n",
            " [1.0000000e-01 1.0000000e-01 1.0000000e-01 1.0000000e-01 1.0000000e-01\n",
            "  1.0000000e-01 1.0000000e-01 1.0000000e-01 1.0000000e-01 1.0000000e-01]\n",
            " [3.5196667e-06 3.5196667e-06 3.5196667e-06 3.5196667e-06 3.5196667e-06\n",
            "  9.9983966e-01 1.3207529e-04 3.5196667e-06 3.5196667e-06 3.5196667e-06]]\n",
            "[7 2 1 0 4 1 4 9 5]\n"
          ],
          "name": "stdout"
        }
      ]
    },
    {
      "cell_type": "code",
      "metadata": {
        "id": "fkL27QjYfy0j",
        "colab_type": "code",
        "colab": {
          "base_uri": "https://localhost:8080/",
          "height": 1000
        },
        "outputId": "42ca45de-1d67-41b8-9865-e01e2967d5d1"
      },
      "source": [
        "# Now I again ran the model with the same setup as the first one . Now the model seems to perform very bad .\n",
        "#The Model is not optimizing \n",
        "# The Model is not minimizing the loss\n",
        "\n",
        "\n",
        "from keras.layers import Activation, MaxPooling2D\n",
        "model = Sequential() \n",
        "model.add(Convolution2D(32, 3, 3, activation='relu', input_shape=(28,28,1)))\n",
        "model.add(Convolution2D(64, 3, 3, activation='relu')) \n",
        "model.add(Convolution2D(128, 3, 3, activation='relu'))\n",
        "model.add(MaxPooling2D(pool_size=(2, 2))) \n",
        "model.add(Convolution2D(256, 3, 3, activation='relu'))\n",
        "model.add(Convolution2D(512, 3, 3, activation='relu'))\n",
        "model.add(Convolution2D(1024, 3, 3, activation='relu'))\n",
        "model.add(Convolution2D(2048, 3, 3, activation='relu'))\n",
        "model.add(Convolution2D(10, 3, 3, activation='relu')) \n",
        "model.add(Flatten())\n",
        "model.add(Activation('softmax'))\n",
        "model.summary()\n",
        "model.compile(loss='categorical_crossentropy',\n",
        "             optimizer='adam',\n",
        "             metrics=['accuracy'])\n",
        "\n",
        "model.fit(X_train, Y_train, batch_size=32, nb_epoch=10, verbose=1)\n",
        "score = model.evaluate(X_test, Y_test, verbose=0)\n",
        "print(score)\n",
        "y_pred = model.predict(X_test)\n",
        "print(y_pred[:9])\n",
        "print(y_test[:9])\n"
      ],
      "execution_count": 52,
      "outputs": [
        {
          "output_type": "stream",
          "text": [
            "/usr/local/lib/python3.6/dist-packages/ipykernel_launcher.py:6: UserWarning: Update your `Conv2D` call to the Keras 2 API: `Conv2D(32, (3, 3), activation=\"relu\", input_shape=(28, 28, 1...)`\n",
            "  \n",
            "/usr/local/lib/python3.6/dist-packages/ipykernel_launcher.py:9: UserWarning: Update your `Conv2D` call to the Keras 2 API: `Conv2D(64, (3, 3), activation=\"relu\")`\n",
            "  if __name__ == '__main__':\n",
            "/usr/local/lib/python3.6/dist-packages/ipykernel_launcher.py:12: UserWarning: Update your `Conv2D` call to the Keras 2 API: `Conv2D(128, (3, 3), activation=\"relu\")`\n",
            "  if sys.path[0] == '':\n",
            "/usr/local/lib/python3.6/dist-packages/ipykernel_launcher.py:18: UserWarning: Update your `Conv2D` call to the Keras 2 API: `Conv2D(256, (3, 3), activation=\"relu\")`\n",
            "/usr/local/lib/python3.6/dist-packages/ipykernel_launcher.py:21: UserWarning: Update your `Conv2D` call to the Keras 2 API: `Conv2D(512, (3, 3), activation=\"relu\")`\n",
            "/usr/local/lib/python3.6/dist-packages/ipykernel_launcher.py:24: UserWarning: Update your `Conv2D` call to the Keras 2 API: `Conv2D(1024, (3, 3), activation=\"relu\")`\n",
            "/usr/local/lib/python3.6/dist-packages/ipykernel_launcher.py:27: UserWarning: Update your `Conv2D` call to the Keras 2 API: `Conv2D(2048, (3, 3), activation=\"relu\")`\n",
            "/usr/local/lib/python3.6/dist-packages/ipykernel_launcher.py:30: UserWarning: Update your `Conv2D` call to the Keras 2 API: `Conv2D(10, (3, 3), activation=\"relu\")`\n",
            "/usr/local/lib/python3.6/dist-packages/ipykernel_launcher.py:43: UserWarning: The `nb_epoch` argument in `fit` has been renamed `epochs`.\n"
          ],
          "name": "stderr"
        },
        {
          "output_type": "stream",
          "text": [
            "_________________________________________________________________\n",
            "Layer (type)                 Output Shape              Param #   \n",
            "=================================================================\n",
            "conv2d_212 (Conv2D)          (None, 26, 26, 32)        320       \n",
            "_________________________________________________________________\n",
            "conv2d_213 (Conv2D)          (None, 24, 24, 64)        18496     \n",
            "_________________________________________________________________\n",
            "conv2d_214 (Conv2D)          (None, 22, 22, 128)       73856     \n",
            "_________________________________________________________________\n",
            "max_pooling2d_36 (MaxPooling (None, 11, 11, 128)       0         \n",
            "_________________________________________________________________\n",
            "conv2d_215 (Conv2D)          (None, 9, 9, 256)         295168    \n",
            "_________________________________________________________________\n",
            "conv2d_216 (Conv2D)          (None, 7, 7, 512)         1180160   \n",
            "_________________________________________________________________\n",
            "conv2d_217 (Conv2D)          (None, 5, 5, 1024)        4719616   \n",
            "_________________________________________________________________\n",
            "conv2d_218 (Conv2D)          (None, 3, 3, 2048)        18876416  \n",
            "_________________________________________________________________\n",
            "conv2d_219 (Conv2D)          (None, 1, 1, 10)          184330    \n",
            "_________________________________________________________________\n",
            "flatten_38 (Flatten)         (None, 10)                0         \n",
            "_________________________________________________________________\n",
            "activation_25 (Activation)   (None, 10)                0         \n",
            "=================================================================\n",
            "Total params: 25,348,362\n",
            "Trainable params: 25,348,362\n",
            "Non-trainable params: 0\n",
            "_________________________________________________________________\n",
            "Epoch 1/10\n",
            "60000/60000 [==============================] - 119s 2ms/step - loss: 2.3026 - acc: 0.0988\n",
            "Epoch 2/10\n",
            "60000/60000 [==============================] - 115s 2ms/step - loss: 2.3026 - acc: 0.0987\n",
            "Epoch 3/10\n",
            "60000/60000 [==============================] - 115s 2ms/step - loss: 2.3026 - acc: 0.0987\n",
            "Epoch 4/10\n",
            "60000/60000 [==============================] - 115s 2ms/step - loss: 2.3026 - acc: 0.0987\n",
            "Epoch 5/10\n",
            "60000/60000 [==============================] - 115s 2ms/step - loss: 2.3026 - acc: 0.0987\n",
            "Epoch 6/10\n",
            "60000/60000 [==============================] - 115s 2ms/step - loss: 2.3026 - acc: 0.0987\n",
            "Epoch 7/10\n",
            "60000/60000 [==============================] - 115s 2ms/step - loss: 2.3026 - acc: 0.0987\n",
            "Epoch 8/10\n",
            "60000/60000 [==============================] - 115s 2ms/step - loss: 2.3026 - acc: 0.0987\n",
            "Epoch 9/10\n",
            "60000/60000 [==============================] - 115s 2ms/step - loss: 2.3026 - acc: 0.0987\n",
            "Epoch 10/10\n",
            "60000/60000 [==============================] - 115s 2ms/step - loss: 2.3026 - acc: 0.0987\n",
            "[2.3025851249694824, 0.098]\n",
            "[[0.1 0.1 0.1 0.1 0.1 0.1 0.1 0.1 0.1 0.1]\n",
            " [0.1 0.1 0.1 0.1 0.1 0.1 0.1 0.1 0.1 0.1]\n",
            " [0.1 0.1 0.1 0.1 0.1 0.1 0.1 0.1 0.1 0.1]\n",
            " [0.1 0.1 0.1 0.1 0.1 0.1 0.1 0.1 0.1 0.1]\n",
            " [0.1 0.1 0.1 0.1 0.1 0.1 0.1 0.1 0.1 0.1]\n",
            " [0.1 0.1 0.1 0.1 0.1 0.1 0.1 0.1 0.1 0.1]\n",
            " [0.1 0.1 0.1 0.1 0.1 0.1 0.1 0.1 0.1 0.1]\n",
            " [0.1 0.1 0.1 0.1 0.1 0.1 0.1 0.1 0.1 0.1]\n",
            " [0.1 0.1 0.1 0.1 0.1 0.1 0.1 0.1 0.1 0.1]]\n",
            "[7 2 1 0 4 1 4 9 5]\n"
          ],
          "name": "stdout"
        }
      ]
    },
    {
      "cell_type": "code",
      "metadata": {
        "id": "6rbWrhZPhMN_",
        "colab_type": "code",
        "colab": {
          "base_uri": "https://localhost:8080/",
          "height": 1000
        },
        "outputId": "63badb6e-a9ef-4854-f0a9-c243641e7b99"
      },
      "source": [
        "#+++++++++++++++++++++++++++++++++++++++\n",
        "\n",
        "#  The Model seems to do much better when we use the optimizer as Stochastic Gradient Descent\n",
        "\n",
        "\n",
        "from keras.layers import Activation, MaxPooling2D\n",
        "\n",
        "model = Sequential() \n",
        "model.add(Convolution2D(32, 3, 3, activation='relu', input_shape=(28,28,1))) \n",
        "model.add(Convolution2D(32, 3, 3, activation='relu'))\n",
        "model.add(Convolution2D(32, 3, 3, activation='relu')) \n",
        "model.add(MaxPooling2D(pool_size=(2, 2))) \n",
        "model.add(Convolution2D(32, 3, 3, activation='relu')) \n",
        "model.add(Convolution2D(16, 3, 3, activation='relu')) \n",
        "model.add(Convolution2D(16, 3, 3, activation='relu')) \n",
        "model.add(Convolution2D(16, 3, 3, activation='relu'))\n",
        "model.add(Convolution2D(10, 3, 3, activation='relu')) \n",
        "model.add(Flatten())\n",
        "model.add(Activation('softmax'))\n",
        "model.summary()\n",
        "model.compile(loss='categorical_crossentropy',\n",
        "             optimizer='sgd',\n",
        "             metrics=['accuracy'])\n",
        "\n",
        "model.fit(X_train, Y_train, batch_size=64, nb_epoch=10, verbose=1)\n",
        "score = model.evaluate(X_test, Y_test, verbose=0)\n",
        "print(score)\n",
        "y_pred = model.predict(X_test)\n",
        "print(y_pred[:9])\n",
        "print(y_test[:9])\n"
      ],
      "execution_count": 53,
      "outputs": [
        {
          "output_type": "stream",
          "text": [
            "/usr/local/lib/python3.6/dist-packages/ipykernel_launcher.py:6: UserWarning: Update your `Conv2D` call to the Keras 2 API: `Conv2D(32, (3, 3), activation=\"relu\", input_shape=(28, 28, 1...)`\n",
            "  \n",
            "/usr/local/lib/python3.6/dist-packages/ipykernel_launcher.py:7: UserWarning: Update your `Conv2D` call to the Keras 2 API: `Conv2D(32, (3, 3), activation=\"relu\")`\n",
            "  import sys\n",
            "/usr/local/lib/python3.6/dist-packages/ipykernel_launcher.py:8: UserWarning: Update your `Conv2D` call to the Keras 2 API: `Conv2D(32, (3, 3), activation=\"relu\")`\n",
            "  \n",
            "/usr/local/lib/python3.6/dist-packages/ipykernel_launcher.py:10: UserWarning: Update your `Conv2D` call to the Keras 2 API: `Conv2D(32, (3, 3), activation=\"relu\")`\n",
            "  # Remove the CWD from sys.path while we load stuff.\n",
            "/usr/local/lib/python3.6/dist-packages/ipykernel_launcher.py:11: UserWarning: Update your `Conv2D` call to the Keras 2 API: `Conv2D(16, (3, 3), activation=\"relu\")`\n",
            "  # This is added back by InteractiveShellApp.init_path()\n",
            "/usr/local/lib/python3.6/dist-packages/ipykernel_launcher.py:12: UserWarning: Update your `Conv2D` call to the Keras 2 API: `Conv2D(16, (3, 3), activation=\"relu\")`\n",
            "  if sys.path[0] == '':\n",
            "/usr/local/lib/python3.6/dist-packages/ipykernel_launcher.py:13: UserWarning: Update your `Conv2D` call to the Keras 2 API: `Conv2D(16, (3, 3), activation=\"relu\")`\n",
            "  del sys.path[0]\n",
            "/usr/local/lib/python3.6/dist-packages/ipykernel_launcher.py:14: UserWarning: Update your `Conv2D` call to the Keras 2 API: `Conv2D(10, (3, 3), activation=\"relu\")`\n",
            "  \n",
            "/usr/local/lib/python3.6/dist-packages/ipykernel_launcher.py:22: UserWarning: The `nb_epoch` argument in `fit` has been renamed `epochs`.\n"
          ],
          "name": "stderr"
        },
        {
          "output_type": "stream",
          "text": [
            "_________________________________________________________________\n",
            "Layer (type)                 Output Shape              Param #   \n",
            "=================================================================\n",
            "conv2d_220 (Conv2D)          (None, 26, 26, 32)        320       \n",
            "_________________________________________________________________\n",
            "conv2d_221 (Conv2D)          (None, 24, 24, 32)        9248      \n",
            "_________________________________________________________________\n",
            "conv2d_222 (Conv2D)          (None, 22, 22, 32)        9248      \n",
            "_________________________________________________________________\n",
            "max_pooling2d_37 (MaxPooling (None, 11, 11, 32)        0         \n",
            "_________________________________________________________________\n",
            "conv2d_223 (Conv2D)          (None, 9, 9, 32)          9248      \n",
            "_________________________________________________________________\n",
            "conv2d_224 (Conv2D)          (None, 7, 7, 16)          4624      \n",
            "_________________________________________________________________\n",
            "conv2d_225 (Conv2D)          (None, 5, 5, 16)          2320      \n",
            "_________________________________________________________________\n",
            "conv2d_226 (Conv2D)          (None, 3, 3, 16)          2320      \n",
            "_________________________________________________________________\n",
            "conv2d_227 (Conv2D)          (None, 1, 1, 10)          1450      \n",
            "_________________________________________________________________\n",
            "flatten_39 (Flatten)         (None, 10)                0         \n",
            "_________________________________________________________________\n",
            "activation_26 (Activation)   (None, 10)                0         \n",
            "=================================================================\n",
            "Total params: 38,778\n",
            "Trainable params: 38,778\n",
            "Non-trainable params: 0\n",
            "_________________________________________________________________\n",
            "Epoch 1/10\n",
            "60000/60000 [==============================] - 10s 163us/step - loss: 1.6341 - acc: 0.4573\n",
            "Epoch 2/10\n",
            "60000/60000 [==============================] - 6s 106us/step - loss: 0.4981 - acc: 0.9031\n",
            "Epoch 3/10\n",
            "60000/60000 [==============================] - 6s 106us/step - loss: 0.3888 - acc: 0.9433\n",
            "Epoch 4/10\n",
            "60000/60000 [==============================] - 6s 106us/step - loss: 0.3518 - acc: 0.9563\n",
            "Epoch 5/10\n",
            "60000/60000 [==============================] - 6s 106us/step - loss: 0.3303 - acc: 0.9642\n",
            "Epoch 6/10\n",
            "60000/60000 [==============================] - 6s 106us/step - loss: 0.3155 - acc: 0.9695\n",
            "Epoch 7/10\n",
            "60000/60000 [==============================] - 6s 106us/step - loss: 0.3072 - acc: 0.9729\n",
            "Epoch 8/10\n",
            "60000/60000 [==============================] - 6s 106us/step - loss: 0.2991 - acc: 0.9737\n",
            "Epoch 9/10\n",
            "60000/60000 [==============================] - 6s 107us/step - loss: 0.2927 - acc: 0.9772\n",
            "Epoch 10/10\n",
            "60000/60000 [==============================] - 6s 106us/step - loss: 0.2886 - acc: 0.9779\n",
            "[0.2822858226284385, 0.9815]\n",
            "[[6.28516909e-06 6.28516909e-06 1.32156983e-05 7.96073509e-05\n",
            "  6.28516909e-06 6.28516909e-06 6.28516909e-06 9.99844551e-01\n",
            "  6.28516909e-06 2.48975903e-05]\n",
            " [7.46146019e-04 9.22741275e-03 9.84803438e-01 7.46146019e-04\n",
            "  7.46146019e-04 7.46146019e-04 7.46146019e-04 7.46146019e-04\n",
            "  7.46146019e-04 7.46146019e-04]\n",
            " [4.65884550e-05 9.95502651e-01 5.83281144e-05 4.65884550e-05\n",
            "  2.82715744e-04 4.65884550e-05 9.56029689e-05 2.65036547e-03\n",
            "  1.22394436e-03 4.65884550e-05]\n",
            " [1.00000001e-01 1.00000001e-01 1.00000001e-01 1.00000001e-01\n",
            "  1.00000001e-01 1.00000001e-01 1.00000001e-01 1.00000001e-01\n",
            "  1.00000001e-01 1.00000001e-01]\n",
            " [5.47952823e-06 5.47952823e-06 5.47952823e-06 5.47952823e-06\n",
            "  9.95579898e-01 5.47952823e-06 5.47952823e-06 1.53647561e-05\n",
            "  5.47952823e-06 4.36630193e-03]\n",
            " [1.90152662e-06 9.99289751e-01 1.90152662e-06 1.90152662e-06\n",
            "  5.53806676e-05 1.90152662e-06 1.90152662e-06 5.14139130e-04\n",
            "  1.02840422e-04 2.83414083e-05]\n",
            " [2.28562385e-07 1.20643026e-05 7.97293353e-07 2.28562385e-07\n",
            "  9.99085426e-01 3.84633978e-07 2.28562385e-07 7.10213717e-05\n",
            "  3.97657539e-04 4.31938359e-04]\n",
            " [1.36731805e-05 1.36731805e-05 1.36731805e-05 1.91612809e-04\n",
            "  6.60808946e-05 1.36731805e-05 1.36731805e-05 1.40628863e-05\n",
            "  1.36731805e-05 9.99646187e-01]\n",
            " [1.29092613e-03 1.29092613e-03 1.29092613e-03 1.29092613e-03\n",
            "  1.29092613e-03 6.69379592e-01 2.49139220e-01 1.29092613e-03\n",
            "  6.17349371e-02 1.20007135e-02]]\n",
            "[7 2 1 0 4 1 4 9 5]\n"
          ],
          "name": "stdout"
        }
      ]
    },
    {
      "cell_type": "code",
      "metadata": {
        "id": "n5aPTP9pm2fU",
        "colab_type": "code",
        "colab": {
          "base_uri": "https://localhost:8080/",
          "height": 1000
        },
        "outputId": "cd9f1993-1904-4fe4-c138-99b95b6126d1"
      },
      "source": [
        "#+++++++++++++++++++++++++++++++++++++++\n",
        "\n",
        "#  The Model seems to do much better when we use the optimizer as keras.optimizers.Adadelta() .\n",
        "\n",
        "\n",
        "from keras.layers import Activation, MaxPooling2D\n",
        "\n",
        "model = Sequential() \n",
        "model.add(Convolution2D(32, 3, 3, activation='relu', input_shape=(28,28,1))) \n",
        "model.add(Convolution2D(32, 3, 3, activation='relu'))\n",
        "model.add(Convolution2D(32, 3, 3, activation='relu')) \n",
        "model.add(MaxPooling2D(pool_size=(2, 2))) \n",
        "model.add(Convolution2D(32, 3, 3, activation='relu')) \n",
        "model.add(Convolution2D(16, 3, 3, activation='relu')) \n",
        "model.add(Convolution2D(16, 3, 3, activation='relu')) \n",
        "model.add(Convolution2D(16, 3, 3, activation='relu'))\n",
        "model.add(Convolution2D(10, 3, 3, activation='relu')) \n",
        "model.add(Flatten())\n",
        "model.add(Activation('softmax'))\n",
        "model.summary()\n",
        "model.compile(loss='categorical_crossentropy',\n",
        "             optimizer=keras.optimizers.Adadelta(),\n",
        "             metrics=['accuracy'])\n",
        "\n",
        "model.fit(X_train, Y_train, batch_size=64, nb_epoch=10, verbose=1)\n",
        "score = model.evaluate(X_test, Y_test, verbose=0)\n",
        "print(score)\n",
        "y_pred = model.predict(X_test)\n",
        "print(y_pred[:9])\n",
        "print(y_test[:9])\n"
      ],
      "execution_count": 55,
      "outputs": [
        {
          "output_type": "stream",
          "text": [
            "/usr/local/lib/python3.6/dist-packages/ipykernel_launcher.py:6: UserWarning: Update your `Conv2D` call to the Keras 2 API: `Conv2D(32, (3, 3), activation=\"relu\", input_shape=(28, 28, 1...)`\n",
            "  \n",
            "/usr/local/lib/python3.6/dist-packages/ipykernel_launcher.py:7: UserWarning: Update your `Conv2D` call to the Keras 2 API: `Conv2D(32, (3, 3), activation=\"relu\")`\n",
            "  import sys\n",
            "/usr/local/lib/python3.6/dist-packages/ipykernel_launcher.py:8: UserWarning: Update your `Conv2D` call to the Keras 2 API: `Conv2D(32, (3, 3), activation=\"relu\")`\n",
            "  \n",
            "/usr/local/lib/python3.6/dist-packages/ipykernel_launcher.py:10: UserWarning: Update your `Conv2D` call to the Keras 2 API: `Conv2D(32, (3, 3), activation=\"relu\")`\n",
            "  # Remove the CWD from sys.path while we load stuff.\n",
            "/usr/local/lib/python3.6/dist-packages/ipykernel_launcher.py:11: UserWarning: Update your `Conv2D` call to the Keras 2 API: `Conv2D(16, (3, 3), activation=\"relu\")`\n",
            "  # This is added back by InteractiveShellApp.init_path()\n",
            "/usr/local/lib/python3.6/dist-packages/ipykernel_launcher.py:12: UserWarning: Update your `Conv2D` call to the Keras 2 API: `Conv2D(16, (3, 3), activation=\"relu\")`\n",
            "  if sys.path[0] == '':\n",
            "/usr/local/lib/python3.6/dist-packages/ipykernel_launcher.py:13: UserWarning: Update your `Conv2D` call to the Keras 2 API: `Conv2D(16, (3, 3), activation=\"relu\")`\n",
            "  del sys.path[0]\n",
            "/usr/local/lib/python3.6/dist-packages/ipykernel_launcher.py:14: UserWarning: Update your `Conv2D` call to the Keras 2 API: `Conv2D(10, (3, 3), activation=\"relu\")`\n",
            "  \n",
            "/usr/local/lib/python3.6/dist-packages/ipykernel_launcher.py:22: UserWarning: The `nb_epoch` argument in `fit` has been renamed `epochs`.\n"
          ],
          "name": "stderr"
        },
        {
          "output_type": "stream",
          "text": [
            "_________________________________________________________________\n",
            "Layer (type)                 Output Shape              Param #   \n",
            "=================================================================\n",
            "conv2d_236 (Conv2D)          (None, 26, 26, 32)        320       \n",
            "_________________________________________________________________\n",
            "conv2d_237 (Conv2D)          (None, 24, 24, 32)        9248      \n",
            "_________________________________________________________________\n",
            "conv2d_238 (Conv2D)          (None, 22, 22, 32)        9248      \n",
            "_________________________________________________________________\n",
            "max_pooling2d_39 (MaxPooling (None, 11, 11, 32)        0         \n",
            "_________________________________________________________________\n",
            "conv2d_239 (Conv2D)          (None, 9, 9, 32)          9248      \n",
            "_________________________________________________________________\n",
            "conv2d_240 (Conv2D)          (None, 7, 7, 16)          4624      \n",
            "_________________________________________________________________\n",
            "conv2d_241 (Conv2D)          (None, 5, 5, 16)          2320      \n",
            "_________________________________________________________________\n",
            "conv2d_242 (Conv2D)          (None, 3, 3, 16)          2320      \n",
            "_________________________________________________________________\n",
            "conv2d_243 (Conv2D)          (None, 1, 1, 10)          1450      \n",
            "_________________________________________________________________\n",
            "flatten_41 (Flatten)         (None, 10)                0         \n",
            "_________________________________________________________________\n",
            "activation_28 (Activation)   (None, 10)                0         \n",
            "=================================================================\n",
            "Total params: 38,778\n",
            "Trainable params: 38,778\n",
            "Non-trainable params: 0\n",
            "_________________________________________________________________\n",
            "Epoch 1/10\n",
            "60000/60000 [==============================] - 11s 189us/step - loss: 0.3144 - acc: 0.9002\n",
            "Epoch 2/10\n",
            "60000/60000 [==============================] - 8s 126us/step - loss: 0.0734 - acc: 0.9779\n",
            "Epoch 3/10\n",
            "60000/60000 [==============================] - 8s 131us/step - loss: 0.0523 - acc: 0.9841\n",
            "Epoch 4/10\n",
            "60000/60000 [==============================] - 8s 131us/step - loss: 0.0428 - acc: 0.9874\n",
            "Epoch 5/10\n",
            "60000/60000 [==============================] - 8s 128us/step - loss: 0.0357 - acc: 0.9890\n",
            "Epoch 6/10\n",
            "60000/60000 [==============================] - 8s 127us/step - loss: 0.0307 - acc: 0.9908\n",
            "Epoch 7/10\n",
            "60000/60000 [==============================] - 8s 127us/step - loss: 0.0272 - acc: 0.9918\n",
            "Epoch 8/10\n",
            "60000/60000 [==============================] - 8s 127us/step - loss: 0.0235 - acc: 0.9926\n",
            "Epoch 9/10\n",
            "60000/60000 [==============================] - 8s 127us/step - loss: 0.0205 - acc: 0.9938\n",
            "Epoch 10/10\n",
            "60000/60000 [==============================] - 8s 127us/step - loss: 0.0185 - acc: 0.9947\n",
            "[0.03044455163088278, 0.9914]\n",
            "[[8.0826085e-10 8.0826085e-10 1.4845309e-09 1.4429470e-08 8.0826085e-10\n",
            "  8.0826085e-10 8.0826085e-10 1.0000000e+00 8.0826085e-10 2.8891212e-09]\n",
            " [5.1034031e-06 7.1756795e-06 9.9994779e-01 5.1034031e-06 5.1034031e-06\n",
            "  5.1034031e-06 9.2050595e-06 5.1034031e-06 5.1034031e-06 5.1034031e-06]\n",
            " [9.5180974e-07 9.9994552e-01 9.5180974e-07 9.5180974e-07 2.5672457e-06\n",
            "  9.5180974e-07 9.5180974e-07 4.5251789e-05 9.5180974e-07 9.5180974e-07]\n",
            " [9.9984753e-01 7.2133466e-06 7.2133466e-06 7.2133466e-06 7.2133466e-06\n",
            "  7.2133466e-06 9.4688301e-05 7.2133466e-06 7.2133466e-06 7.2133466e-06]\n",
            " [5.1288229e-08 5.1288229e-08 5.1288229e-08 5.1288229e-08 9.9999642e-01\n",
            "  5.1288229e-08 5.1288229e-08 5.1288229e-08 5.1288229e-08 3.1592913e-06]\n",
            " [1.7462753e-07 9.9998975e-01 1.7462753e-07 1.7462753e-07 5.1571703e-07\n",
            "  1.7462753e-07 1.7462753e-07 8.5542579e-06 1.7462753e-07 1.7462753e-07]\n",
            " [1.2780369e-05 1.2780369e-05 1.2780369e-05 1.2780369e-05 9.9803239e-01\n",
            "  1.2780369e-05 1.2780369e-05 1.7038932e-03 3.5933648e-05 1.5104686e-04]\n",
            " [4.2662975e-07 4.2662975e-07 4.2662975e-07 4.2662975e-07 5.3856178e-04\n",
            "  4.2662975e-07 4.2662975e-07 4.2662975e-07 1.4414155e-06 9.9945706e-01]\n",
            " [1.7188754e-06 1.7188754e-06 1.7188754e-06 1.7188754e-06 1.7188754e-06\n",
            "  9.6576828e-01 3.4208089e-02 3.4144007e-06 9.9121726e-06 1.7188754e-06]]\n",
            "[7 2 1 0 4 1 4 9 5]\n"
          ],
          "name": "stdout"
        }
      ]
    },
    {
      "cell_type": "markdown",
      "metadata": {
        "id": "KWFvgzxtn_64",
        "colab_type": "text"
      },
      "source": [
        "**Summary **\n",
        "\n",
        "The following points to be considering while designing a Convolution model \n",
        "\n",
        "1. The Size of kernels and number of kernels for each convolution layer must be carefully decided \n",
        "2. The Number of kernels must be in line with the number of classes ( must not be less , must not be high)\n",
        "3. The Hyper parameters must be choosen based on experience and learnings from multiple outcomes \n",
        "4. The Optimizer and Loss function must be choosen carefully and based on the data we are trying to fit \n",
        "5. Proper Normalization technique must be used\n",
        "\n",
        "The Process of getting the best fit model is also iterative in nature and data hungry. Care must be taken to get a perfect fit model and not an overfit or underfit one \n",
        "\n",
        "\n",
        "\n",
        "*********************************************************************************************************************************"
      ]
    }
  ]
}